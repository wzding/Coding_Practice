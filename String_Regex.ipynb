{
 "cells": [
  {
   "cell_type": "markdown",
   "metadata": {},
   "source": [
    "The count-and-say sequence is the sequence of integers beginning as follows:\n",
    "1, 11, 21, 1211, 111221, ...\n",
    "Given an integer n, generate the nth sequence."
   ]
  },
  {
   "cell_type": "code",
   "execution_count": null,
   "metadata": {
    "collapsed": true
   },
   "outputs": [],
   "source": [
    "def countAndSay(n):\n",
    "    \"\"\"\n",
    "    :type n: int\n",
    "    :rtype: str\n",
    "    \"\"\"\n",
    "    s = \"1\"\n",
    "    import re\n",
    "    for i in range(n-1):\n",
    "        s = re.sub(r'(.)\\1*',lambda x : str(len(x.group(0))) + x.group(1),s)\n",
    "        # re.sub(pattern, repl, string, count=0, flags=0)\n",
    "        # Return the string obtained by replacing the leftmost non-overlapping occurrences of pattern \n",
    "        # in string by the replacement repl. If the pattern isn’t found, string is returned unchanged.\n",
    "    return s"
   ]
  }
 ],
 "metadata": {
  "kernelspec": {
   "display_name": "Python 2",
   "language": "python",
   "name": "python2"
  },
  "language_info": {
   "codemirror_mode": {
    "name": "ipython",
    "version": 2
   },
   "file_extension": ".py",
   "mimetype": "text/x-python",
   "name": "python",
   "nbconvert_exporter": "python",
   "pygments_lexer": "ipython2",
   "version": "2.7.13"
  }
 },
 "nbformat": 4,
 "nbformat_minor": 0
}

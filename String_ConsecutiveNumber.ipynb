{
 "cells": [
  {
   "cell_type": "markdown",
   "metadata": {},
   "source": [
    "find consecutive numbers in a list"
   ]
  },
  {
   "cell_type": "code",
   "execution_count": 15,
   "metadata": {
    "collapsed": false
   },
   "outputs": [
    {
     "name": "stdout",
     "output_type": "stream",
     "text": [
      "-1\n",
      "[1]\n",
      "-3\n",
      "[4, 5, 6]\n",
      "-6\n",
      "[10]\n",
      "-10\n",
      "[15, 16, 17, 18]\n",
      "-13\n",
      "[22]\n",
      "-15\n",
      "[25, 26, 27, 28]\n"
     ]
    }
   ],
   "source": [
    "from itertools import groupby\n",
    "# sub-iterators grouped by value of keyfunc(v)\n",
    "from operator import itemgetter\n",
    "#  itemgetter: Return a callable object that fetches item from its operand using the operand’s __getitem__() method. \n",
    "#  If multiple items are specified, returns a tuple of lookup values. \n",
    "data = [ 1, 4,5,6, 10, 15,16,17,18, 22, 25,26,27,28]\n",
    "        \n",
    "for k, g in groupby(enumerate(data), lambda (i, x): i-x):\n",
    "    print k\n",
    "    print map(itemgetter(1), g)  # "
   ]
  }
 ],
 "metadata": {
  "kernelspec": {
   "display_name": "Python 2",
   "language": "python",
   "name": "python2"
  },
  "language_info": {
   "codemirror_mode": {
    "name": "ipython",
    "version": 2
   },
   "file_extension": ".py",
   "mimetype": "text/x-python",
   "name": "python",
   "nbconvert_exporter": "python",
   "pygments_lexer": "ipython2",
   "version": "2.7.13"
  }
 },
 "nbformat": 4,
 "nbformat_minor": 2
}

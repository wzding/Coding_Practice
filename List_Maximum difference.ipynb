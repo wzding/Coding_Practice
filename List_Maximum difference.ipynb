{
 "cells": [
  {
   "cell_type": "markdown",
   "metadata": {},
   "source": [
    "###  Maximum difference between two elements such that larger element appears after the smaller number"
   ]
  },
  {
   "cell_type": "code",
   "execution_count": 31,
   "metadata": {
    "collapsed": true
   },
   "outputs": [],
   "source": [
    "def maxdiff(list_):\n",
    "    max_diff = list_[1] - list_[0]\n",
    "    min_ele = list_[0]\n",
    "    ma = 0\n",
    "    mi = 0\n",
    "    res = []\n",
    "    for i in xrange(1,len(list_)):\n",
    "        if list_[i] - min_ele > max_diff:\n",
    "            max_diff = list_[i] - min_ele\n",
    "            ma = i\n",
    "        if list_[i] < min_ele:\n",
    "            min_ele = list_[i] \n",
    "            mi = i\n",
    "        if ma > mi:\n",
    "            res = [ma,mi]\n",
    "    return max_diff,res[0],res[1]"
   ]
  },
  {
   "cell_type": "code",
   "execution_count": 32,
   "metadata": {
    "collapsed": false
   },
   "outputs": [
    {
     "data": {
      "text/plain": [
       "(8, 2, 0)"
      ]
     },
     "execution_count": 32,
     "metadata": {},
     "output_type": "execute_result"
    }
   ],
   "source": [
    "maxdiff( [2, 3, 10, 6, 4, 8, 1] )\n"
   ]
  }
 ],
 "metadata": {
  "kernelspec": {
   "display_name": "Python 2",
   "language": "python",
   "name": "python2"
  },
  "language_info": {
   "codemirror_mode": {
    "name": "ipython",
    "version": 2
   },
   "file_extension": ".py",
   "mimetype": "text/x-python",
   "name": "python",
   "nbconvert_exporter": "python",
   "pygments_lexer": "ipython2",
   "version": "2.7.13"
  }
 },
 "nbformat": 4,
 "nbformat_minor": 2
}

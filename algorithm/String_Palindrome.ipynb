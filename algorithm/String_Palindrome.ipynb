{
 "cells": [
  {
   "cell_type": "markdown",
   "metadata": {},
   "source": [
    "find the longest palindromic substring contained in string a"
   ]
  },
  {
   "cell_type": "code",
   "execution_count": null,
   "metadata": {
    "collapsed": true
   },
   "outputs": [],
   "source": [
    "# http://www.geeksforgeeks.org/longest-palindromic-substring-set-2/\n",
    "def question2(a):\n",
    "    res = \"\"\n",
    "    for i in xrange(len(a)):\n",
    "        # for palindromic with odd length, such as 'ada'\n",
    "        temp = palindromic(a,i,i)\n",
    "        if len(temp) > len(res):\n",
    "            res = temp\n",
    "        \n",
    "        # for palindromic with even length, such as 'adda'\n",
    "        temp = palindromic(a,i,i+1)\n",
    "        if len(temp) > len(res):\n",
    "            res = temp  \n",
    "    return res\n",
    "\n",
    "def palindromic(string, start, end):\n",
    "    # the first and the last character much be the same to be a palindromic\n",
    "    while start >= 0 and end < len(string) and string[start] == string[end]:\n",
    "        start -= 1\n",
    "        end += 1\n",
    "    return string[start+1:end]\n",
    "\n",
    "print question2(\"\") # \"\"\n",
    "print question2(\"a\") # a\n",
    "print question2(\"abcbdd\")  # bcb\n",
    "print question2(\"abcccba\")  # abcccba\n"
   ]
  },
  {
   "cell_type": "markdown",
   "metadata": {},
   "source": [
    "The goal of this question is to find the longest palindrome substring contained in a string a. My idea is to loop through every characters in a and find the longest possible palindrome with that character in the middle. I set an empty string as the output string 'res', and updated 'res' only when length of a possible palindrome is longer than 'res'. There are two cases that a string can be a palindrome, one is its length is an odd number, and the middle of the string is different with its adjacent letters, such as \"ada\". The other case is that the length is an even number, and there are two letters in the middle, such as \"daad\".  \n",
    "I used a helper function to find the longest palindrome. The first and the last character must be the same, and the characters that have the same difference from the first and the last characters much be same to be a palindrome. Thus, I used a condition to check whether the symmetric characters are the same: \"while start >= 0 and end < len(string) and string[start] == string[end]:\". There are three loops in this approach, therefore the time complexity is O ( n^2 ).  Space complexity is O ( 1 ) as we used a variable to store and update the output string.'''"
   ]
  },
  {
   "cell_type": "code",
   "execution_count": null,
   "metadata": {
    "collapsed": true
   },
   "outputs": [],
   "source": []
  },
  {
   "cell_type": "markdown",
   "metadata": {},
   "source": [
    "Determine whether an integer is a palindrome."
   ]
  },
  {
   "cell_type": "code",
   "execution_count": null,
   "metadata": {
    "collapsed": true
   },
   "outputs": [],
   "source": [
    "class Solution(object):\n",
    "    def isPalindrome(self, x):\n",
    "        \"\"\"\n",
    "        :type x: int\n",
    "        :rtype: bool\n",
    "        \"\"\"\n",
    "        if x < 0 or (x != 0 and x % 10 == 0):\n",
    "            return False\n",
    "        temp = 0 \n",
    "        while x > temp:\n",
    "            temp = temp * 10 + x % 10\n",
    "            x = x/10\n",
    "        return x == temp or x == temp/10"
   ]
  }
 ],
 "metadata": {
  "kernelspec": {
   "display_name": "Python 2",
   "language": "python",
   "name": "python2"
  },
  "language_info": {
   "codemirror_mode": {
    "name": "ipython",
    "version": 2
   },
   "file_extension": ".py",
   "mimetype": "text/x-python",
   "name": "python",
   "nbconvert_exporter": "python",
   "pygments_lexer": "ipython2",
   "version": "2.7.13"
  }
 },
 "nbformat": 4,
 "nbformat_minor": 2
}

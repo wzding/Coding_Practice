{
 "cells": [
  {
   "cell_type": "markdown",
   "metadata": {},
   "source": [
    "http://eddmann.com/posts/depth-first-search-and-breadth-first-search-in-python/"
   ]
  },
  {
   "cell_type": "code",
   "execution_count": 1,
   "metadata": {
    "collapsed": true
   },
   "outputs": [],
   "source": [
    "graph = {'A': set(['B', 'C']),\n",
    "         'B': set(['A', 'D', 'E']),\n",
    "         'C': set(['A', 'F']),\n",
    "         'D': set(['B']),\n",
    "         'E': set(['B', 'F']),\n",
    "         'F': set(['C', 'E'])}"
   ]
  },
  {
   "cell_type": "code",
   "execution_count": 2,
   "metadata": {},
   "outputs": [
    {
     "data": {
      "text/plain": [
       "{'A': {'B', 'C'},\n",
       " 'B': {'A', 'D', 'E'},\n",
       " 'C': {'A', 'F'},\n",
       " 'D': {'B'},\n",
       " 'E': {'B', 'F'},\n",
       " 'F': {'C', 'E'}}"
      ]
     },
     "execution_count": 2,
     "metadata": {},
     "output_type": "execute_result"
    }
   ],
   "source": [
    "graph"
   ]
  },
  {
   "cell_type": "markdown",
   "metadata": {},
   "source": [
    "### DFS"
   ]
  },
  {
   "cell_type": "markdown",
   "metadata": {},
   "source": [
    "DFS: Explores possible vertices (from a supplied root) down each branch before backtracking \n",
    "1. Mark the current vertex as being visited.\n",
    "2. Explore each adjacent vertex that is not included in the visited set."
   ]
  },
  {
   "cell_type": "code",
   "execution_count": 3,
   "metadata": {},
   "outputs": [
    {
     "data": {
      "text/plain": [
       "{'A', 'B', 'C', 'D', 'E', 'F'}"
      ]
     },
     "execution_count": 3,
     "metadata": {},
     "output_type": "execute_result"
    }
   ],
   "source": [
    "def dfs(graph, start):\n",
    "    visited, stack = set(), [start]\n",
    "    while stack:\n",
    "        vertex = stack.pop()\n",
    "        if vertex not in visited:\n",
    "            visited.add(vertex)\n",
    "            stack.extend(graph[vertex] - visited)\n",
    "    return visited\n",
    "\n",
    "dfs(graph, 'A') # {'E', 'D', 'F', 'A', 'C', 'B'}"
   ]
  },
  {
   "cell_type": "code",
   "execution_count": 26,
   "metadata": {},
   "outputs": [
    {
     "name": "stdout",
     "output_type": "stream",
     "text": [
      "set(['A'])\n",
      "C\n",
      "set(['A', 'C'])\n",
      "F\n",
      "set(['A', 'C', 'F'])\n",
      "E\n",
      "set(['A', 'C', 'E', 'F'])\n",
      "B\n",
      "set(['A', 'C', 'B', 'E', 'F'])\n",
      "D\n",
      "set(['A', 'C', 'B', 'E', 'D', 'F'])\n"
     ]
    },
    {
     "data": {
      "text/plain": [
       "{'A', 'B', 'C', 'D', 'E', 'F'}"
      ]
     },
     "execution_count": 26,
     "metadata": {},
     "output_type": "execute_result"
    }
   ],
   "source": [
    "def dfs(graph, start, visited=None):\n",
    "    if visited is None:\n",
    "        visited = set()\n",
    "    visited.add(start)\n",
    "    print visited\n",
    "    for next in graph[start]:\n",
    "        if not next in visited:\n",
    "            print next\n",
    "            dfs(graph, next, visited)\n",
    "    return visited\n",
    "\n",
    "dfs(graph, 'A') # {'E', 'D', 'F', 'A', 'C', 'B'}"
   ]
  },
  {
   "cell_type": "code",
   "execution_count": 28,
   "metadata": {},
   "outputs": [
    {
     "name": "stdout",
     "output_type": "stream",
     "text": [
      "C\n",
      "[('C', ['A', 'C'])]\n",
      "B\n",
      "[('C', ['A', 'C']), ('B', ['A', 'B'])]\n",
      "E\n",
      "[('C', ['A', 'C']), ('E', ['A', 'B', 'E'])]\n",
      "D\n",
      "[('C', ['A', 'C']), ('E', ['A', 'B', 'E']), ('D', ['A', 'B', 'D'])]\n",
      "F\n",
      "F\n"
     ]
    },
    {
     "data": {
      "text/plain": [
       "[['A', 'B', 'E', 'F'], ['A', 'C', 'F']]"
      ]
     },
     "execution_count": 28,
     "metadata": {},
     "output_type": "execute_result"
    }
   ],
   "source": [
    "def dfs_paths(graph, start, goal):\n",
    "    stack = [(start, [start])]\n",
    "    while stack:\n",
    "        (vertex, path) = stack.pop()\n",
    "        for next in graph[vertex] - set(path):\n",
    "            print next\n",
    "            if next == goal:\n",
    "                yield path + [next]\n",
    "            else:\n",
    "                stack.append((next, path + [next]))\n",
    "                print stack\n",
    "\n",
    "list(dfs_paths(graph, 'A', 'F'))"
   ]
  },
  {
   "cell_type": "code",
   "execution_count": null,
   "metadata": {
    "collapsed": true
   },
   "outputs": [],
   "source": [
    "def dfs_paths(graph, start, goal, path=None):\n",
    "    if path is None:\n",
    "        path = [start]\n",
    "    if start == goal:\n",
    "        yield path\n",
    "    for next in graph[start] - set(path):\n",
    "        yield from dfs_paths(graph, next, goal, path + [next])\n",
    "\n",
    "list(dfs_paths(graph, 'C', 'F')) "
   ]
  },
  {
   "cell_type": "markdown",
   "metadata": {},
   "source": [
    "## 547. Friend Circles"
   ]
  },
  {
   "cell_type": "code",
   "execution_count": 16,
   "metadata": {
    "collapsed": true
   },
   "outputs": [],
   "source": [
    "def findCircleNum(M):\n",
    "    \"\"\"\n",
    "    :type M: List[List[int]]\n",
    "    :rtype: int\n",
    "    \"\"\"\n",
    "    cir = set()\n",
    "    l = len(M)\n",
    "\n",
    "    def OneCircle(row):\n",
    "        for i,v in enumerate(M[row]):\n",
    "            v = int(v)\n",
    "            if v and i not in cir:\n",
    "                cir.add(i)\n",
    "                OneCircle(i)\n",
    "\n",
    "    count = 0\n",
    "    for i in xrange(l) :\n",
    "        if i not in cir:\n",
    "            OneCircle(i)\n",
    "            count += 1\n",
    "    return count"
   ]
  },
  {
   "cell_type": "code",
   "execution_count": 17,
   "metadata": {},
   "outputs": [
    {
     "data": {
      "text/plain": [
       "2"
      ]
     },
     "execution_count": 17,
     "metadata": {},
     "output_type": "execute_result"
    }
   ],
   "source": [
    "findCircleNum(['1100','1110','0110','0001'])"
   ]
  },
  {
   "cell_type": "code",
   "execution_count": 19,
   "metadata": {},
   "outputs": [
    {
     "data": {
      "text/plain": [
       "2"
      ]
     },
     "execution_count": 19,
     "metadata": {},
     "output_type": "execute_result"
    }
   ],
   "source": [
    "findCircleNum([[1,1,0,0,],[1,1,1,0],[0,1,1,0],[0,0,0,1]])"
   ]
  },
  {
   "cell_type": "markdown",
   "metadata": {
    "collapsed": true
   },
   "source": [
    "## 133. Clone Graph"
   ]
  },
  {
   "cell_type": "markdown",
   "metadata": {},
   "source": [
    "Clone an undirected graph. Each node in the graph contains a label and a list of its neighbors."
   ]
  },
  {
   "cell_type": "code",
   "execution_count": null,
   "metadata": {
    "collapsed": true
   },
   "outputs": [],
   "source": [
    "# Definition for a undirected graph node\n",
    "# class UndirectedGraphNode:\n",
    "#     def __init__(self, x):\n",
    "#         self.label = x\n",
    "#         self.neighbors = []\n",
    "\n",
    "class Solution:\n",
    "    # @param node, a undirected graph node\n",
    "    # @return a undirected graph node\n",
    "    def cloneGraph(self, node):  #DFS\n",
    "        if not node:\n",
    "            return node\n",
    "        root = UndirectedGraphNode(node.label)\n",
    "        stack = [node] #object\n",
    "        visit = {}\n",
    "        visit[node.label] = root \n",
    "        # key is label, value is the label of the UDRN\n",
    "        while stack:\n",
    "            top = stack.pop() #object\n",
    "            for n in top.neighbors: #object\n",
    "                if n.label not in visit:\n",
    "                    stack.append(n)  #object\n",
    "                    visit[n.label] = UndirectedGraphNode(n.label)\n",
    "                visit[top.label].neighbors.append(visit[n.label])\n",
    "        return root"
   ]
  },
  {
   "cell_type": "code",
   "execution_count": null,
   "metadata": {
    "collapsed": true
   },
   "outputs": [],
   "source": []
  },
  {
   "cell_type": "markdown",
   "metadata": {},
   "source": [
    "### BFS"
   ]
  },
  {
   "cell_type": "code",
   "execution_count": 13,
   "metadata": {},
   "outputs": [
    {
     "name": "stdout",
     "output_type": "stream",
     "text": [
      "A set()\n",
      "C {'A'}\n",
      "B {'C', 'A'}\n",
      "F {'C', 'B', 'A'}\n",
      "D {'C', 'F', 'B', 'A'}\n",
      "E {'C', 'B', 'A', 'D', 'F'}\n",
      "E {'C', 'E', 'B', 'A', 'D', 'F'}\n"
     ]
    },
    {
     "data": {
      "text/plain": [
       "{'A', 'B', 'C', 'D', 'E', 'F'}"
      ]
     },
     "execution_count": 13,
     "metadata": {},
     "output_type": "execute_result"
    }
   ],
   "source": [
    "# visit all nodes in a graph\n",
    "def bfs(graph, start):\n",
    "    visited, queue = set(), [start]\n",
    "    while queue:\n",
    "        vertex = queue.pop(0)\n",
    "        print(vertex, visited)\n",
    "        if vertex not in visited:\n",
    "            visited.add(vertex)\n",
    "            queue.extend(graph[vertex] - visited)\n",
    "    return visited\n",
    "\n",
    "bfs(graph, 'A') # {'B', 'C', 'A', 'F', 'D', 'E'}"
   ]
  },
  {
   "cell_type": "code",
   "execution_count": 14,
   "metadata": {
    "collapsed": true
   },
   "outputs": [],
   "source": [
    "grid = [[0, 0, 1, 0, 0, 0],\n",
    "        [0, 0, 1, 0, 0, 0],\n",
    "        [0, 0, 0, 0, 1, 0],\n",
    "        [0, 0, 1, 1, 1, 0],\n",
    "        [0, 0, 0, 0, 1, 0]]\n",
    "delta = [[-1, 0], # go up\n",
    "         [ 0,-1], # go left\n",
    "         [ 1, 0], # go down\n",
    "         [ 0, 1]] # go right"
   ]
  },
  {
   "cell_type": "code",
   "execution_count": 38,
   "metadata": {},
   "outputs": [],
   "source": [
    "visited = [len(grid[0]) * [0] ] * len(grid)"
   ]
  },
  {
   "cell_type": "code",
   "execution_count": 39,
   "metadata": {},
   "outputs": [
    {
     "data": {
      "text/plain": [
       "[[0, 0, 0, 0, 0, 0],\n",
       " [0, 0, 0, 0, 0, 0],\n",
       " [0, 0, 0, 0, 0, 0],\n",
       " [0, 0, 0, 0, 0, 0],\n",
       " [0, 0, 0, 0, 0, 0]]"
      ]
     },
     "execution_count": 39,
     "metadata": {},
     "output_type": "execute_result"
    }
   ],
   "source": [
    "visited"
   ]
  },
  {
   "cell_type": "code",
   "execution_count": 54,
   "metadata": {},
   "outputs": [
    {
     "data": {
      "text/plain": [
       "[9, 4, 5]"
      ]
     },
     "execution_count": 54,
     "metadata": {},
     "output_type": "execute_result"
    }
   ],
   "source": [
    "grid = [[0, 0, 1, 0, 0, 0],\n",
    "        [0, 0, 0, 0, 0, 0],\n",
    "        [0, 0, 0, 0, 1, 0],\n",
    "        [0, 0, 1, 1, 1, 0],\n",
    "        [0, 0, 0, 0, 1, 0]]\n",
    "init = [0, 0]\n",
    "goal = [len(grid)-1, len(grid[0])-1]\n",
    "cost = 1\n",
    "delta = [[-1, 0], # go up\n",
    "         [ 0,-1], # go left\n",
    "         [ 1, 0], # go down\n",
    "         [ 0, 1]] # go right\n",
    "delta_name = ['^', '<', 'v', '>']\n",
    "\n",
    "\n",
    "def search(grid,init,goal,cost):\n",
    "    visited = [[0 for r in range(len(grid[0]))] for c in range(len(grid))]\n",
    "    # visited node in grid\n",
    "    x = init[0]\n",
    "    y = init[1]\n",
    "    g = 0\n",
    "    visited[x][y] = 1\n",
    "    queue = [[g, x, y]]\n",
    "    found = False\n",
    "    resign = False\n",
    "    \n",
    "    while found is False and resign is False:\n",
    "        if len(queue) == 0:\n",
    "            resign = True\n",
    "            return 'fail'\n",
    "        else:\n",
    "#             print(queue)\n",
    "            queue.sort()\n",
    "            queue.reverse()\n",
    "#             print(\"sorted: \")\n",
    "#             print(queue)\n",
    "#             print(\"\")\n",
    "            # pop element w/ smallest g value\n",
    "            next_ = queue.pop()  # pop the last element\n",
    "            g = next_[0]\n",
    "            x = next_[1]\n",
    "            y = next_[2]\n",
    "            \n",
    "            \n",
    "            if x == goal[0] and y == goal[1]:\n",
    "                found = True\n",
    "                return next_\n",
    "                \n",
    "            else:\n",
    "                for i in range(len(delta)):\n",
    "                    x1 = x + delta[i][0]\n",
    "                    y1 = y + delta[i][1]\n",
    "                    if x1 >= 0 and x1 < len(grid) and y1 >= 0 and y1 < len(grid[0]):\n",
    "                        if visited[x1][y1] == 0 and grid[x1][y1] == 0:\n",
    "                            g1 = g + cost\n",
    "                            queue.append([g1, x1, y1])\n",
    "                            visited[x1][y1] = 1\n",
    "#                 print(queue) \n",
    "\n",
    "search(grid,init,goal,cost)"
   ]
  },
  {
   "cell_type": "code",
   "execution_count": null,
   "metadata": {
    "collapsed": true
   },
   "outputs": [],
   "source": []
  },
  {
   "cell_type": "code",
   "execution_count": 33,
   "metadata": {},
   "outputs": [
    {
     "data": {
      "text/plain": [
       "[[0, 0, 0], [1, 1, 1]]"
      ]
     },
     "execution_count": 33,
     "metadata": {},
     "output_type": "execute_result"
    }
   ],
   "source": [
    "x = [[0,0,0]]\n",
    "x.append([1,1,1])\n",
    "x"
   ]
  },
  {
   "cell_type": "code",
   "execution_count": null,
   "metadata": {
    "collapsed": true
   },
   "outputs": [],
   "source": [
    "def bfs_paths(graph, start, goal):\n",
    "    queue = [(start, [start])]\n",
    "    while queue:\n",
    "        (vertex, path) = queue.pop(0)\n",
    "        for next in graph[vertex] - set(path):\n",
    "            if next == goal:\n",
    "                yield path + [next]\n",
    "            else:\n",
    "                queue.append((next, path + [next]))\n",
    "\n",
    "list(bfs_paths(graph, 'A', 'F'))"
   ]
  },
  {
   "cell_type": "code",
   "execution_count": null,
   "metadata": {
    "collapsed": true
   },
   "outputs": [],
   "source": [
    "def shortest_path(graph, start, goal):\n",
    "    try:\n",
    "        return next(bfs_paths(graph, start, goal))\n",
    "    except StopIteration:\n",
    "        return None\n",
    "\n",
    "shortest_path(graph, 'A', 'F')"
   ]
  }
 ],
 "metadata": {
  "kernelspec": {
   "display_name": "Python 3",
   "language": "python",
   "name": "python3"
  },
  "language_info": {
   "codemirror_mode": {
    "name": "ipython",
    "version": 3
   },
   "file_extension": ".py",
   "mimetype": "text/x-python",
   "name": "python",
   "nbconvert_exporter": "python",
   "pygments_lexer": "ipython3",
   "version": "3.6.2"
  }
 },
 "nbformat": 4,
 "nbformat_minor": 1
}

{
 "cells": [
  {
   "cell_type": "code",
   "execution_count": 1,
   "metadata": {
    "collapsed": true
   },
   "outputs": [],
   "source": [
    "import copy\n",
    "def trythis(array):\n",
    "    right_min = [array[-1]]\n",
    "    left_max = [array[0]]\n",
    "    # right\n",
    "    for i in range(len(array)-2, -1, -1):\n",
    "        if array[i] < right_min[-1]:\n",
    "            right_min.append(array[i])\n",
    "        else:\n",
    "            right_min.append(right_min[-1])\n",
    "    # left\n",
    "    for j in range(1,len(array),1):\n",
    "        if array[j] > left_max[-1]:\n",
    "            left_max.append(array[j])\n",
    "        else:\n",
    "            left_max.append(left_max[-1])\n",
    "    \n",
    "    print(right_min[::-1])\n",
    "    print(left_max)\n",
    "    res = []\n",
    "    temp = []\n",
    "    for index, (right, left) in enumerate(zip(right_min[::-1], left_max)):\n",
    "        if right >= left:\n",
    "            if temp != []:\n",
    "                res.append(copy.deepcopy(temp))\n",
    "                temp = []\n",
    "            res.append([array[index]])\n",
    "        else:\n",
    "            temp.append(array[index])\n",
    "    if res == []:\n",
    "        res = [temp]\n",
    "    return res"
   ]
  },
  {
   "cell_type": "code",
   "execution_count": 2,
   "metadata": {},
   "outputs": [
    {
     "name": "stdout",
     "output_type": "stream",
     "text": [
      "[3, 4, 5, 7, 7, 10, 12, 13]\n",
      "[3, 4, 5, 9, 9, 10, 12, 13]\n"
     ]
    },
    {
     "data": {
      "text/plain": [
       "[[3], [4], [5], [9, 7], [10], [12], [13]]"
      ]
     },
     "execution_count": 2,
     "metadata": {},
     "output_type": "execute_result"
    }
   ],
   "source": [
    "array1 = [3,4,5,9,7,10,12,13]\n",
    "trythis(array1)"
   ]
  },
  {
   "cell_type": "code",
   "execution_count": 3,
   "metadata": {},
   "outputs": [
    {
     "name": "stdout",
     "output_type": "stream",
     "text": [
      "[3, 4, 5, 6, 7]\n",
      "[3, 4, 5, 6, 7]\n"
     ]
    },
    {
     "data": {
      "text/plain": [
       "[[3], [4], [5], [6], [7]]"
      ]
     },
     "execution_count": 3,
     "metadata": {},
     "output_type": "execute_result"
    }
   ],
   "source": [
    "array2 = [3,4,5,6,7]\n",
    "trythis(array2)"
   ]
  },
  {
   "cell_type": "code",
   "execution_count": null,
   "metadata": {
    "collapsed": true
   },
   "outputs": [],
   "source": []
  }
 ],
 "metadata": {
  "kernelspec": {
   "display_name": "Python 3",
   "language": "python",
   "name": "python3"
  },
  "language_info": {
   "codemirror_mode": {
    "name": "ipython",
    "version": 3
   },
   "file_extension": ".py",
   "mimetype": "text/x-python",
   "name": "python",
   "nbconvert_exporter": "python",
   "pygments_lexer": "ipython3",
   "version": "3.6.2"
  }
 },
 "nbformat": 4,
 "nbformat_minor": 2
}

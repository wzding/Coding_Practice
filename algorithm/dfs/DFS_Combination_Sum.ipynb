{
 "cells": [
  {
   "cell_type": "markdown",
   "metadata": {},
   "source": [
    "Combination Sum  DFS"
   ]
  },
  {
   "cell_type": "markdown",
   "metadata": {},
   "source": [
    "codility: 3 array no duplicates"
   ]
  },
  {
   "cell_type": "code",
   "execution_count": 136,
   "metadata": {
    "collapsed": true
   },
   "outputs": [],
   "source": [
    "import copy\n",
    "\n",
    "class Solution(object):\n",
    "    def selectcombination(self, arrays):\n",
    "        \"\"\"\n",
    "        :type candidates: List[int]\n",
    "        :type target: int\n",
    "        :rtype: List[List[int]]\n",
    "        \"\"\"\n",
    "        res = []\n",
    "        self.dfs(arrays, 0, [], res)\n",
    "        return res\n",
    "    \n",
    "    def dfs(self, arrays, index, path, res):\n",
    "        if index == len(arrays):\n",
    "            if len(path) == len(arrays):\n",
    "                res.append(copy.deepcopy(path))\n",
    "            return\n",
    "        for j in range(len(arrays[index])):\n",
    "            if arrays[index][j] not in path:\n",
    "                path.append(arrays[index][j])\n",
    "                self.dfs(arrays, index+1, path, res)\n",
    "                path.pop()"
   ]
  },
  {
   "cell_type": "code",
   "execution_count": 137,
   "metadata": {
    "collapsed": true
   },
   "outputs": [
    {
     "data": {
      "text/plain": [
       "[[],\n",
       " [],\n",
       " [],\n",
       " [],\n",
       " [],\n",
       " [],\n",
       " [],\n",
       " [],\n",
       " [],\n",
       " [],\n",
       " [],\n",
       " [],\n",
       " [],\n",
       " [],\n",
       " [],\n",
       " [],\n",
       " [],\n",
       " [],\n",
       " [],\n",
       " [],\n",
       " [],\n",
       " [],\n",
       " [],\n",
       " []]"
      ]
     },
     "execution_count": 137,
     "metadata": {},
     "output_type": "execute_result"
    }
   ],
   "source": [
    "test = Solution()\n",
    "test.selectcombination([[3,7,6,2],[4,6,7],[5,2,3]])"
   ]
  },
  {
   "cell_type": "code",
   "execution_count": 143,
   "metadata": {},
   "outputs": [
    {
     "name": "stdout",
     "output_type": "stream",
     "text": [
      "(3, 4, 5)\n",
      "(3, 4, 2)\n",
      "(3, 6, 5)\n",
      "(3, 6, 2)\n",
      "(3, 7, 5)\n",
      "(3, 7, 2)\n",
      "(7, 4, 5)\n",
      "(7, 4, 2)\n",
      "(7, 4, 3)\n",
      "(7, 6, 5)\n",
      "(7, 6, 2)\n",
      "(7, 6, 3)\n",
      "(6, 4, 5)\n",
      "(6, 4, 2)\n",
      "(6, 4, 3)\n",
      "(6, 7, 5)\n",
      "(6, 7, 2)\n",
      "(6, 7, 3)\n",
      "(2, 4, 5)\n",
      "(2, 4, 3)\n",
      "(2, 6, 5)\n",
      "(2, 6, 3)\n",
      "(2, 7, 5)\n",
      "(2, 7, 3)\n"
     ]
    }
   ],
   "source": [
    "import itertools\n",
    "iterables = [[3,7,6,2],[4,6,7],[5,2,3]]\n",
    "for t in itertools.product(*iterables):\n",
    "    if len(set(t)) == 3:\n",
    "        print (t)"
   ]
  },
  {
   "cell_type": "code",
   "execution_count": null,
   "metadata": {
    "collapsed": true
   },
   "outputs": [],
   "source": []
  },
  {
   "cell_type": "markdown",
   "metadata": {},
   "source": [
    "### 39. Combination Sum\n",
    "\n",
    "Given a set of candidate numbers (C) (without duplicates) and a target number (T), find all unique combinations in C where the candidate numbers sums to T.\n",
    "\n",
    "The same repeated number may be chosen from C unlimited number of times.\n",
    "\n",
    "Note:\n",
    "All numbers (including target) will be positive integers.\n",
    "The solution set must not contain duplicate combinations.\n",
    "For example, given candidate set [2, 3, 6, 7] and target 7, \n",
    "A solution set is: \n",
    "[2, 2, 3], [7]"
   ]
  },
  {
   "cell_type": "code",
   "execution_count": 32,
   "metadata": {
    "collapsed": true
   },
   "outputs": [],
   "source": [
    "class Solution(object):\n",
    "    def combinationSum(self, candidates, target):\n",
    "        \"\"\"\n",
    "        :type candidates: List[int]\n",
    "        :type target: int\n",
    "        :rtype: List[List[int]]\n",
    "        \"\"\"\n",
    "        res = []\n",
    "        candidates.sort()\n",
    "        self.dfs(candidates, target, res, 0, [])\n",
    "        return res\n",
    "    \n",
    "    def dfs(self, candidates, target, res, index, path):\n",
    "        if target < 0:\n",
    "            return False\n",
    "        if target == 0:\n",
    "            res.append(path)\n",
    "            return True\n",
    "        for i in range(index, len(candidates)):\n",
    "#             print(i, index, path , target)\n",
    "            temp = self.dfs(candidates, target-candidates[i], res, i, path+[candidates[i]])\n",
    "            if not temp:  \n",
    "                break;\n",
    "        return True"
   ]
  },
  {
   "cell_type": "code",
   "execution_count": 33,
   "metadata": {
    "collapsed": true
   },
   "outputs": [],
   "source": [
    "test = Solution()"
   ]
  },
  {
   "cell_type": "code",
   "execution_count": 34,
   "metadata": {},
   "outputs": [
    {
     "data": {
      "text/plain": [
       "[[2, 2, 3], [7]]"
      ]
     },
     "execution_count": 34,
     "metadata": {},
     "output_type": "execute_result"
    }
   ],
   "source": [
    "test.combinationSum([3,7,6,2],7)"
   ]
  },
  {
   "cell_type": "markdown",
   "metadata": {},
   "source": [
    "### 216. Combination Sum III\n",
    "\n",
    "Find all possible combinations of k numbers that add up to a number n, given that only numbers from 1 to 9 can be used and each combination should be a unique set of numbers.\n",
    "\n",
    "\n",
    "Example 1:\n",
    "\n",
    "Input: k = 3, n = 7"
   ]
  },
  {
   "cell_type": "code",
   "execution_count": 1,
   "metadata": {
    "collapsed": true
   },
   "outputs": [],
   "source": [
    "class Solution(object):\n",
    "    def combinationSum3(self, k, n):\n",
    "        \"\"\"\n",
    "        :type k: int\n",
    "        :type n: int\n",
    "        :rtype: List[List[int]]\n",
    "        \"\"\"\n",
    "        if n > sum([i for i in range(1,11)]):\n",
    "            return []\n",
    "        \n",
    "        res = []\n",
    "        self.helper(k,n,1,[],res)\n",
    "        return res\n",
    "        \n",
    "    def helper(self,k,n,curr,arr,res):\n",
    "        if len(arr) == k:\n",
    "            if sum(arr) == n:\n",
    "                res.append(list(arr))\n",
    "            return\n",
    "        \n",
    "        if len(arr) > k or curr > 9:\n",
    "            return\n",
    "        \n",
    "        for i in range(curr,10):\n",
    "            arr.append(i)\n",
    "            self.helper(k,n,i+1,arr,res)\n",
    "            arr.pop()"
   ]
  },
  {
   "cell_type": "code",
   "execution_count": 2,
   "metadata": {
    "collapsed": true
   },
   "outputs": [],
   "source": [
    "test = Solution()"
   ]
  },
  {
   "cell_type": "code",
   "execution_count": 3,
   "metadata": {},
   "outputs": [
    {
     "data": {
      "text/plain": [
       "[[1, 2, 7], [1, 3, 6], [1, 4, 5], [2, 3, 5]]"
      ]
     },
     "execution_count": 3,
     "metadata": {},
     "output_type": "execute_result"
    }
   ],
   "source": [
    "test.combinationSum3(3,10)"
   ]
  },
  {
   "cell_type": "code",
   "execution_count": null,
   "metadata": {
    "collapsed": true
   },
   "outputs": [],
   "source": []
  },
  {
   "cell_type": "code",
   "execution_count": null,
   "metadata": {
    "collapsed": true
   },
   "outputs": [],
   "source": []
  }
 ],
 "metadata": {
  "kernelspec": {
   "display_name": "Python 3",
   "language": "python",
   "name": "python3"
  },
  "language_info": {
   "codemirror_mode": {
    "name": "ipython",
    "version": 3
   },
   "file_extension": ".py",
   "mimetype": "text/x-python",
   "name": "python",
   "nbconvert_exporter": "python",
   "pygments_lexer": "ipython3",
   "version": "3.6.2"
  }
 },
 "nbformat": 4,
 "nbformat_minor": 2
}

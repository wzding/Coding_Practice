{
 "cells": [
  {
   "cell_type": "markdown",
   "metadata": {},
   "source": [
    "## 222. Count Complete Tree Nodes"
   ]
  },
  {
   "cell_type": "markdown",
   "metadata": {},
   "source": [
    "Given a complete binary tree, count the number of nodes.\n",
    "\n",
    "Definition of a complete binary tree from Wikipedia:\n",
    "In a complete binary tree every level, except possibly the last, is completely filled, and all nodes in the last level are as far left as possible. It can have between 1 and 2h nodes inclusive at the last level h."
   ]
  },
  {
   "cell_type": "markdown",
   "metadata": {},
   "source": [
    "compare the depth between left sub tree and right sub tree.\n",
    "* If it is equal, it means the left sub tree is a perfect binary tree\n",
    "* It it is not , it means the right sub tree is a perfect binary tree"
   ]
  },
  {
   "cell_type": "code",
   "execution_count": null,
   "metadata": {
    "collapsed": true
   },
   "outputs": [],
   "source": [
    "# Definition for a binary tree node.\n",
    "# class TreeNode(object):\n",
    "#     def __init__(self, x):\n",
    "#         self.val = x\n",
    "#         self.left = None\n",
    "#         self.right = None\n",
    "\n",
    "class Solution(object):\n",
    "    def countNodes(self, root):\n",
    "        \"\"\"\n",
    "        :type root: TreeNode\n",
    "        :rtype: int\n",
    "        \"\"\"\n",
    "        if not root:\n",
    "            return 0\n",
    "        leftDep = self.getDep(root.left)\n",
    "        rightDep = self.getDep(root.right)\n",
    "        if leftDep == rightDep:\n",
    "            return pow(2,leftDep) + self.countNodes(root.right)\n",
    "        else:\n",
    "            return pow(2,rightDep) + self.countNodes(root.left)\n",
    "        \n",
    "    def getDep(self,root):\n",
    "        if not root:\n",
    "            return 0\n",
    "        return 1 + self.getDep(root.left)"
   ]
  }
 ],
 "metadata": {
  "kernelspec": {
   "display_name": "Python 2",
   "language": "python",
   "name": "python2"
  },
  "language_info": {
   "codemirror_mode": {
    "name": "ipython",
    "version": 2
   },
   "file_extension": ".py",
   "mimetype": "text/x-python",
   "name": "python",
   "nbconvert_exporter": "python",
   "pygments_lexer": "ipython2",
   "version": "2.7.13"
  }
 },
 "nbformat": 4,
 "nbformat_minor": 2
}

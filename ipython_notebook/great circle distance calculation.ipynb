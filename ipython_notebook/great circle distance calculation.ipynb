{
 "cells": [
  {
   "cell_type": "markdown",
   "metadata": {},
   "source": [
    "### a. Define a function to test whether location is correct"
   ]
  },
  {
   "cell_type": "code",
   "execution_count": null,
   "metadata": {
    "collapsed": true
   },
   "outputs": [],
   "source": [
    "def GetDistance(row):\n",
    "# Calculate distance (in kilometers) between two points given as (long, latt) pairs \n",
    "# based on Haversine formula (http://en.wikipedia.org/wiki/Haversine_formula\n",
    "    start_lat = math.radians(float(row.DEPT_Lat))  \n",
    "    end_lat = math.radians(float(row.ARR_Lat))\n",
    "    start_lon = math.radians(float(row.DEPT_Long))\n",
    "    end_lon = math.radians(float(row.ARR_Long))\n",
    "    d_lat = end_lat - start_lat  \n",
    "    d_lon = end_lon - start_lon  \n",
    "    a = math.sin(d_lat/2)**2 + math.cos(start_lat) * math.cos(end_lat) * math.sin(d_lon/2)**2  \n",
    "    c = 2 * math.asin(math.sqrt(a))  \n",
    "    # Radius of earth is 3440 nm\n",
    "    return 3440 * c"
   ]
  }
 ],
 "metadata": {
  "kernelspec": {
   "display_name": "Python 2",
   "language": "python",
   "name": "python2"
  },
  "language_info": {
   "codemirror_mode": {
    "name": "ipython",
    "version": 2
   },
   "file_extension": ".py",
   "mimetype": "text/x-python",
   "name": "python",
   "nbconvert_exporter": "python",
   "pygments_lexer": "ipython2",
   "version": "2.7.7"
  }
 },
 "nbformat": 4,
 "nbformat_minor": 0
}

{
 "cells": [
  {
   "cell_type": "markdown",
   "metadata": {},
   "source": [
    "* recursively sort the first half of the input array;\n",
    "* vrecursively sort the second half of the input arrary; \n",
    "* Merge two sorted sub-lists into one list."
   ]
  },
  {
   "cell_type": "code",
   "execution_count": 10,
   "metadata": {
    "collapsed": true
   },
   "outputs": [],
   "source": [
    "def merge1(a,b):\n",
    "    i = 0\n",
    "    j = 0\n",
    "    k = 0\n",
    "    c= [None] * (len(a) + len(b))\n",
    "    while i < len(a) and j < len(b):\n",
    "        if a[i] < b[j]:\n",
    "            c[k] = a[i]\n",
    "            i += 1\n",
    "        else:\n",
    "            c[k] = b[j]\n",
    "            j += 1\n",
    "        k += 1\n",
    "    while i < len(a):\n",
    "        c[k] = a[i]\n",
    "        i += 1\n",
    "        k += 1\n",
    "    while j < len(b):\n",
    "        c[k] = b[j]\n",
    "        j += 1\n",
    "        k += 1\n",
    "    return c"
   ]
  },
  {
   "cell_type": "code",
   "execution_count": 11,
   "metadata": {
    "collapsed": false
   },
   "outputs": [
    {
     "data": {
      "text/plain": [
       "[1, 2, 3, 6]"
      ]
     },
     "execution_count": 11,
     "metadata": {},
     "output_type": "execute_result"
    }
   ],
   "source": [
    "merge1([2,3],[1,6])"
   ]
  },
  {
   "cell_type": "code",
   "execution_count": 12,
   "metadata": {
    "collapsed": true
   },
   "outputs": [],
   "source": [
    "def merge2(a,b):\n",
    "    c = []\n",
    "    while len(a) != 0 and len(b) != 0:\n",
    "        if a[0] < b[0]:\n",
    "            c.append(a[0])\n",
    "            a.remove(a[0])\n",
    "        else:\n",
    "            c.append(b[0])\n",
    "            b.remove(b[0])\n",
    "    if len(a) == 0:\n",
    "        c +=b\n",
    "    else:\n",
    "        c +=a\n",
    "    return c"
   ]
  },
  {
   "cell_type": "code",
   "execution_count": 13,
   "metadata": {
    "collapsed": false
   },
   "outputs": [
    {
     "data": {
      "text/plain": [
       "[1, 2, 3, 6]"
      ]
     },
     "execution_count": 13,
     "metadata": {},
     "output_type": "execute_result"
    }
   ],
   "source": [
    "merge2([2,3],[1,6])"
   ]
  },
  {
   "cell_type": "code",
   "execution_count": 3,
   "metadata": {
    "collapsed": true
   },
   "outputs": [],
   "source": [
    "def merge3(a,b):\n",
    "    i = 0\n",
    "    j = 0\n",
    "    c= []\n",
    "    len1 =len(a)\n",
    "    len2 = len(b)\n",
    "    for k in range(len1+len2):\n",
    "        if i == len1:\n",
    "            c += b[j:]\n",
    "            break\n",
    "        elif j == len2:\n",
    "            c += a[i:]\n",
    "            break\n",
    "        elif a[i] <b[j]:\n",
    "            c.append(a[i])\n",
    "            i += 1\n",
    "        else:\n",
    "            c.append(b[j])\n",
    "            j += 1\n",
    "    return c"
   ]
  },
  {
   "cell_type": "code",
   "execution_count": 4,
   "metadata": {
    "collapsed": false
   },
   "outputs": [
    {
     "data": {
      "text/plain": [
       "[1, 2, 3, 6]"
      ]
     },
     "execution_count": 4,
     "metadata": {},
     "output_type": "execute_result"
    }
   ],
   "source": [
    "merge3([2,3],[1,6])"
   ]
  },
  {
   "cell_type": "code",
   "execution_count": 23,
   "metadata": {
    "collapsed": true
   },
   "outputs": [],
   "source": [
    "def mergesort(x):\n",
    "    if len(x) == 0 or len(x) == 1:\n",
    "        return x\n",
    "    else:\n",
    "        mid = len(x) /2\n",
    "        left = mergesort(x[:mid])\n",
    "        right = mergesort(x[mid:])\n",
    "        return merge1(left, right)"
   ]
  },
  {
   "cell_type": "code",
   "execution_count": 24,
   "metadata": {
    "collapsed": false
   },
   "outputs": [
    {
     "data": {
      "text/plain": [
       "[1, 2, 3, 3, 4, 5, 6, 7, 8, 9]"
      ]
     },
     "execution_count": 24,
     "metadata": {},
     "output_type": "execute_result"
    }
   ],
   "source": [
    "mergesort([8,2,3,1,4,5,3,6,7,9])"
   ]
  },
  {
   "cell_type": "code",
   "execution_count": null,
   "metadata": {
    "collapsed": true
   },
   "outputs": [],
   "source": []
  },
  {
   "cell_type": "code",
   "execution_count": null,
   "metadata": {
    "collapsed": true
   },
   "outputs": [],
   "source": []
  }
 ],
 "metadata": {
  "kernelspec": {
   "display_name": "Python 2",
   "language": "python",
   "name": "python2"
  },
  "language_info": {
   "codemirror_mode": {
    "name": "ipython",
    "version": 2
   },
   "file_extension": ".py",
   "mimetype": "text/x-python",
   "name": "python",
   "nbconvert_exporter": "python",
   "pygments_lexer": "ipython2",
   "version": "2.7.7"
  }
 },
 "nbformat": 4,
 "nbformat_minor": 0
}

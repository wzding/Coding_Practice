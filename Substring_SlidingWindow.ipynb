{
 "cells": [
  {
   "cell_type": "code",
   "execution_count": null,
   "metadata": {
    "collapsed": true
   },
   "outputs": [],
   "source": []
  },
  {
   "cell_type": "code",
   "execution_count": null,
   "metadata": {
    "collapsed": true
   },
   "outputs": [],
   "source": []
  },
  {
   "cell_type": "code",
   "execution_count": null,
   "metadata": {
    "collapsed": true
   },
   "outputs": [],
   "source": []
  },
  {
   "cell_type": "markdown",
   "metadata": {},
   "source": [
    "438 Find All Anagrams in a String"
   ]
  },
  {
   "cell_type": "code",
   "execution_count": null,
   "metadata": {
    "collapsed": true
   },
   "outputs": [],
   "source": [
    "def findAnagrams(s, p):\n",
    "    res = []\n",
    "    if s == \"\" or len(s) == 0 or p == \"\" or len(p)  == 0:\n",
    "        return res\n",
    "    hashtable = [0] * 128\n",
    "    for i in p :\n",
    "        hashtable[ord(i)] += 1\n",
    "    \n",
    "    left = 0 \n",
    "    right = 0\n",
    "    count = len(p)\n",
    "    \n",
    "    while right < len(s):\n",
    "#         //move right everytime, if the character exists in p's hash, decrease the count\n",
    "#         //current hash value >= 1 means the character is existing in p\n",
    "        if hashtable[ord(s[right])] >= 1:\n",
    "            count -= 1\n",
    "        hashtable[ord(s[right])] -= 1\n",
    "        right += 1\n",
    "        \n",
    "#         //when the count is down to 0, means we found the right anagram\n",
    "#         //then add window's left to result list        \n",
    "        if count == 0:\n",
    "            res.append(left)\n",
    "        \n",
    "#         //if we find the window's size equals to p, then we have to move left (narrow the window) to find the new match window\n",
    "#         //++ to reset the hash because we kicked out the left\n",
    "#         //only increase the count if the character is in p\n",
    "#         //the count >= 0 indicate it was original in the hash, cuz it won't go below 0\n",
    "        if right - left == len(p):\n",
    "            if hashtable[ord(s[left])] >= 0:\n",
    "                count += 1\n",
    "            hashtable[ord(s[left])] += 1\n",
    "            left += 1\n",
    "        \n",
    "    return res"
   ]
  },
  {
   "cell_type": "markdown",
   "metadata": {},
   "source": [
    "3 Longest Substring Without Repeating Characters   "
   ]
  },
  {
   "cell_type": "code",
   "execution_count": null,
   "metadata": {
    "collapsed": true
   },
   "outputs": [],
   "source": []
  },
  {
   "cell_type": "code",
   "execution_count": null,
   "metadata": {
    "collapsed": true
   },
   "outputs": [],
   "source": []
  },
  {
   "cell_type": "markdown",
   "metadata": {},
   "source": [
    "159 Longest Substring with At Most Two Distinct Characters"
   ]
  },
  {
   "cell_type": "code",
   "execution_count": null,
   "metadata": {
    "collapsed": true
   },
   "outputs": [],
   "source": []
  },
  {
   "cell_type": "code",
   "execution_count": null,
   "metadata": {
    "collapsed": true
   },
   "outputs": [],
   "source": []
  },
  {
   "cell_type": "markdown",
   "metadata": {},
   "source": [
    "30 Substring with Concatenation of All Words"
   ]
  },
  {
   "cell_type": "code",
   "execution_count": null,
   "metadata": {
    "collapsed": true
   },
   "outputs": [],
   "source": []
  },
  {
   "cell_type": "code",
   "execution_count": null,
   "metadata": {
    "collapsed": true
   },
   "outputs": [],
   "source": []
  },
  {
   "cell_type": "markdown",
   "metadata": {},
   "source": [
    "76 Minimum Window Substring"
   ]
  },
  {
   "cell_type": "code",
   "execution_count": null,
   "metadata": {
    "collapsed": true
   },
   "outputs": [],
   "source": []
  },
  {
   "cell_type": "code",
   "execution_count": null,
   "metadata": {
    "collapsed": true
   },
   "outputs": [],
   "source": []
  },
  {
   "cell_type": "code",
   "execution_count": null,
   "metadata": {
    "collapsed": true
   },
   "outputs": [],
   "source": []
  }
 ],
 "metadata": {
  "kernelspec": {
   "display_name": "Python 2",
   "language": "python",
   "name": "python2"
  },
  "language_info": {
   "codemirror_mode": {
    "name": "ipython",
    "version": 2
   },
   "file_extension": ".py",
   "mimetype": "text/x-python",
   "name": "python",
   "nbconvert_exporter": "python",
   "pygments_lexer": "ipython2",
   "version": "2.7.13"
  }
 },
 "nbformat": 4,
 "nbformat_minor": 2
}

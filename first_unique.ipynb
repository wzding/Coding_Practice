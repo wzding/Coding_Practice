{
 "cells": [
  {
   "cell_type": "code",
   "execution_count": 8,
   "metadata": {
    "collapsed": false
   },
   "outputs": [],
   "source": [
    "def first_unique(s):\n",
    "    import collections\n",
    "    idx =[]\n",
    "    for c,v in collections.Counter(s).iteritems():\n",
    "        if v == 1:\n",
    "            idx.append(c)\n",
    "    if idx == []:\n",
    "        unique_char =  None        \n",
    "    else:\n",
    "        unique_char = idx[0]\n",
    "    return unique_char\n"
   ]
  },
  {
   "cell_type": "code",
   "execution_count": 9,
   "metadata": {
    "collapsed": false
   },
   "outputs": [
    {
     "name": "stdout",
     "output_type": "stream",
     "text": [
      "c\n",
      "a\n",
      "None\n"
     ]
    }
   ],
   "source": [
    "print first_unique('aabbcdd123')\n",
    "print first_unique('a')\n",
    "print first_unique('112233')"
   ]
  },
  {
   "cell_type": "markdown",
   "metadata": {},
   "source": [
    "check whether some anagram of t is a substring of s."
   ]
  },
  {
   "cell_type": "code",
   "execution_count": 1,
   "metadata": {
    "collapsed": false
   },
   "outputs": [
    {
     "name": "stdout",
     "output_type": "stream",
     "text": [
      "True\n",
      "True\n",
      "False\n"
     ]
    }
   ],
   "source": [
    "def question1(s,t):\n",
    "    if s.find(t) == -1:\n",
    "        return False\n",
    "    return True\n",
    "\n",
    "print question1(\"Udacity\",\"da\")\n",
    "print question1(\"Udacity\",\"Udacity\")\n",
    "print question1(\"Udacity\",\"ad\")"
   ]
  },
  {
   "cell_type": "markdown",
   "metadata": {},
   "source": [
    "find the longest palindromic substring contained in a"
   ]
  },
  {
   "cell_type": "code",
   "execution_count": 24,
   "metadata": {
    "collapsed": false
   },
   "outputs": [
    {
     "name": "stdout",
     "output_type": "stream",
     "text": [
      "dd\n",
      "bcb\n",
      "abcccba\n"
     ]
    }
   ],
   "source": [
    "def question2(a):\n",
    "    res = \"\"\n",
    "    for i in xrange(len(a)):\n",
    "        temp = palindromic(a,i,i)\n",
    "        if len(temp) > len(res):\n",
    "            res = temp\n",
    "        \n",
    "        temp = palindromic(a,i,i+1)\n",
    "        if len(temp) > len(res):\n",
    "            res = temp  \n",
    "    return res\n",
    "\n",
    "def palindromic(string, start, end):\n",
    "    while start >= 0 and end < len(string) and string[start] == string[end]:\n",
    "        start -= 1\n",
    "        end += 1\n",
    "    return string[start+1:end]\n",
    "\n",
    "print question2(\"abcdd\")\n",
    "print question2(\"abcbdd\")\n",
    "print question2(\"abcccba\")"
   ]
  },
  {
   "cell_type": "markdown",
   "metadata": {},
   "source": [
    "find the minimum spanning tree within an undirected graph G"
   ]
  },
  {
   "cell_type": "code",
   "execution_count": null,
   "metadata": {
    "collapsed": true
   },
   "outputs": [],
   "source": [
    "def question3(G):\n",
    "    "
   ]
  },
  {
   "cell_type": "code",
   "execution_count": null,
   "metadata": {
    "collapsed": true
   },
   "outputs": [],
   "source": [
    "test = {'A': [('B', 2)],'B': [('A', 2), ('C', 5)], 'C': [('B', 5)]}"
   ]
  }
 ],
 "metadata": {
  "kernelspec": {
   "display_name": "Python 2",
   "language": "python",
   "name": "python2"
  },
  "language_info": {
   "codemirror_mode": {
    "name": "ipython",
    "version": 2
   },
   "file_extension": ".py",
   "mimetype": "text/x-python",
   "name": "python",
   "nbconvert_exporter": "python",
   "pygments_lexer": "ipython2",
   "version": "2.7.13"
  }
 },
 "nbformat": 4,
 "nbformat_minor": 2
}

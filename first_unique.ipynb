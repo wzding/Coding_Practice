{
 "cells": [
  {
   "cell_type": "code",
   "execution_count": 8,
   "metadata": {
    "collapsed": false
   },
   "outputs": [],
   "source": [
    "def first_unique(s):\n",
    "    import collections\n",
    "    idx =[]\n",
    "    for c,v in collections.Counter(s).iteritems():\n",
    "        if v == 1:\n",
    "            idx.append(c)\n",
    "    if idx == []:\n",
    "        unique_char =  None        \n",
    "    else:\n",
    "        unique_char = idx[0]\n",
    "    return unique_char\n"
   ]
  },
  {
   "cell_type": "code",
   "execution_count": 9,
   "metadata": {
    "collapsed": false
   },
   "outputs": [
    {
     "name": "stdout",
     "output_type": "stream",
     "text": [
      "c\n",
      "a\n",
      "None\n"
     ]
    }
   ],
   "source": [
    "print first_unique('aabbcdd123')\n",
    "print first_unique('a')\n",
    "print first_unique('112233')"
   ]
  },
  {
   "cell_type": "code",
   "execution_count": null,
   "metadata": {
    "collapsed": true
   },
   "outputs": [],
   "source": []
  }
 ],
 "metadata": {
  "kernelspec": {
   "display_name": "Python 2",
   "language": "python",
   "name": "python2"
  },
  "language_info": {
   "codemirror_mode": {
    "name": "ipython",
    "version": 2
   },
   "file_extension": ".py",
   "mimetype": "text/x-python",
   "name": "python",
   "nbconvert_exporter": "python",
   "pygments_lexer": "ipython2",
   "version": "2.7.13"
  }
 },
 "nbformat": 4,
 "nbformat_minor": 2
}

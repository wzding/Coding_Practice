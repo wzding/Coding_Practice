{
 "cells": [
  {
   "cell_type": "markdown",
   "metadata": {},
   "source": [
    "## 384. Shuffle an Array"
   ]
  },
  {
   "cell_type": "code",
   "execution_count": null,
   "metadata": {
    "collapsed": true
   },
   "outputs": [],
   "source": [
    "class Solution(object):\n",
    "\n",
    "    def __init__(self, nums):\n",
    "        \"\"\"\n",
    "        :type nums: List[int]\n",
    "        \"\"\"\n",
    "        self.reset = lambda: nums\n",
    "        self.shuffle = lambda: random.sample(nums,len(nums))\n",
    "        \n",
    "\n",
    "    def reset(self):\n",
    "        \"\"\"\n",
    "        Resets the array to its original configuration and return it.\n",
    "        :rtype: List[int]\n",
    "        \"\"\"\n",
    "        return self.reset\n",
    "\n",
    "    def shuffle(self):\n",
    "        \"\"\"\n",
    "        Returns a random shuffling of the array.\n",
    "        :rtype: List[int]\n",
    "        \"\"\"\n",
    "        return self.shuffle"
   ]
  }
 ],
 "metadata": {
  "kernelspec": {
   "display_name": "Python 2",
   "language": "python",
   "name": "python2"
  },
  "language_info": {
   "codemirror_mode": {
    "name": "ipython",
    "version": 2
   },
   "file_extension": ".py",
   "mimetype": "text/x-python",
   "name": "python",
   "nbconvert_exporter": "python",
   "pygments_lexer": "ipython2",
   "version": "2.7.13"
  }
 },
 "nbformat": 4,
 "nbformat_minor": 2
}

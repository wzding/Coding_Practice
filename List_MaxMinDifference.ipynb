{
 "cells": [
  {
   "cell_type": "markdown",
   "metadata": {},
   "source": [
    "###  Maximum difference between two elements such that larger element appears after the smaller number"
   ]
  },
  {
   "cell_type": "code",
   "execution_count": 31,
   "metadata": {
    "collapsed": true
   },
   "outputs": [],
   "source": [
    "def maxdiff(list_):\n",
    "    max_diff = list_[1] - list_[0]\n",
    "    min_ele = list_[0]\n",
    "    ma = 0\n",
    "    mi = 0\n",
    "    res = []\n",
    "    for i in xrange(1,len(list_)):\n",
    "        if list_[i] - min_ele > max_diff:\n",
    "            max_diff = list_[i] - min_ele\n",
    "            ma = i\n",
    "        if list_[i] < min_ele:\n",
    "            min_ele = list_[i] \n",
    "            mi = i\n",
    "        if ma > mi:\n",
    "            res = [ma,mi]\n",
    "    return max_diff,res[0],res[1]"
   ]
  },
  {
   "cell_type": "code",
   "execution_count": 32,
   "metadata": {
    "collapsed": false
   },
   "outputs": [
    {
     "data": {
      "text/plain": [
       "(8, 2, 0)"
      ]
     },
     "execution_count": 32,
     "metadata": {},
     "output_type": "execute_result"
    }
   ],
   "source": [
    "maxdiff( [2, 3, 10, 6, 4, 8, 1] )\n"
   ]
  },
  {
   "cell_type": "markdown",
   "metadata": {},
   "source": [
    "## 539. Minimum Time Difference"
   ]
  },
  {
   "cell_type": "markdown",
   "metadata": {},
   "source": [
    "Given a list of 24-hour clock time points in \"Hour:Minutes\" format, find the minimum minutes difference between any two time points in the list."
   ]
  },
  {
   "cell_type": "code",
   "execution_count": null,
   "metadata": {
    "collapsed": true
   },
   "outputs": [],
   "source": [
    "class Solution(object):\n",
    "    def findMinDifference(self, timePoints):\n",
    "        \"\"\"\n",
    "        :type timePoints: List[str]\n",
    "        :rtype: int\n",
    "        \"\"\"\n",
    "        def getMin(x): # covert to minutes\n",
    "            return int(x[:2]) * 60 + int(x[3:])\n",
    "        \n",
    "        mint = map(getMin,timePoints) \n",
    "        mint.sort()\n",
    "        # print mint\n",
    "        return min( (y - x) % (24 * 60) for x,y in zip(mint,mint[1:]+mint[:1]) )"
   ]
  },
  {
   "cell_type": "markdown",
   "metadata": {},
   "source": [
    "Convert each timestamp to it's integer number of minutes past midnight, and sort the array of minutes.\n",
    "The required minimum difference must be a difference between two adjacent elements in the circular array (so the last element is \"adjacent\" to the first.) We take the minimum value of all of them."
   ]
  }
 ],
 "metadata": {
  "kernelspec": {
   "display_name": "Python 2",
   "language": "python",
   "name": "python2"
  },
  "language_info": {
   "codemirror_mode": {
    "name": "ipython",
    "version": 2
   },
   "file_extension": ".py",
   "mimetype": "text/x-python",
   "name": "python",
   "nbconvert_exporter": "python",
   "pygments_lexer": "ipython2",
   "version": "2.7.13"
  }
 },
 "nbformat": 4,
 "nbformat_minor": 2
}

{
 "cells": [
  {
   "cell_type": "code",
   "execution_count": 57,
   "metadata": {
    "collapsed": true
   },
   "outputs": [],
   "source": [
    "# cache = {}\n",
    "# def countArrangement(N):\n",
    "#     def helper(i, X):\n",
    "#         if i == 1:\n",
    "#             return 1\n",
    "#         key = i, X\n",
    "#         print key\n",
    "#         if key in cache:\n",
    "#             return cache[key]\n",
    "        \n",
    "#         total = sum(helper(i - 1, X[:j] + X[j + 1:])\n",
    "#                     for j, x in enumerate(X)\n",
    "#                     if x % i == 0 or i % x == 0)\n",
    "#         cache[key] = total\n",
    "#         return total\n",
    "    \n",
    "#     return helper(N, tuple(range(1, N + 1)))"
   ]
  },
  {
   "cell_type": "code",
   "execution_count": null,
   "metadata": {
    "collapsed": true
   },
   "outputs": [],
   "source": []
  },
  {
   "cell_type": "code",
   "execution_count": 8,
   "metadata": {
    "collapsed": true
   },
   "outputs": [],
   "source": [
    "def trythis(array):\n",
    "    end = 0\n",
    "    res = []\n",
    "    subArray = [];\n",
    "    maxi = array[0]\n",
    "\n",
    "    while end < len(array):\n",
    "        subArray.append(array[end])\n",
    "        if array[end] > maxi:\n",
    "            maxi = array[end]\n",
    "            res.append(subArray)\n",
    "            subArray = []\n",
    "        end += 1\n",
    "    res.append(subArray)   \n",
    "        \n",
    "    return res"
   ]
  },
  {
   "cell_type": "code",
   "execution_count": null,
   "metadata": {
    "collapsed": true
   },
   "outputs": [],
   "source": [
    "[3],[4],[5],[9,7],[10]"
   ]
  },
  {
   "cell_type": "code",
   "execution_count": 41,
   "metadata": {},
   "outputs": [
    {
     "name": "stdout",
     "output_type": "stream",
     "text": [
      "2\n",
      "1\n"
     ]
    }
   ],
   "source": [
    "(2 -> 4 -> 3) + (5 -> 6 -> 4)\n",
    " 7 -> 0 -> 8\n",
    "342 + 465 = 807."
   ]
  },
  {
   "cell_type": "code",
   "execution_count": null,
   "metadata": {
    "collapsed": true
   },
   "outputs": [],
   "source": []
  },
  {
   "cell_type": "code",
   "execution_count": null,
   "metadata": {
    "collapsed": true
   },
   "outputs": [],
   "source": [
    "# Definition for singly-linked list.\n",
    "# class ListNode(object):\n",
    "#     def __init__(self, x):\n",
    "#         self.val = x\n",
    "#         self.next = None\n",
    "\n",
    "class Solution(object):\n",
    "    def samelen(self, s1, s2):\n",
    "        if len(s1) > len(s2):\n",
    "            s2 += [0] * (len(s1) - len(s2))\n",
    "        else:\n",
    "            s1 += [0] * (len(s2) - len(s1))\n",
    "    def addTwoNumbers(self, l1, l2):\n",
    "        \"\"\"\n",
    "        :type l1: ListNode\n",
    "        :type l2: ListNode\n",
    "        :rtype: ListNode\n",
    "        \"\"\"\n",
    "        s1 = []\n",
    "        s2 = []\n",
    "        res = []\n",
    "        while l1 != None:\n",
    "            s1.append(l1.val)\n",
    "            l1 = l1.next\n",
    "        while l2 != None:\n",
    "            s2.append(l2.val)\n",
    "            l2 = l2.next\n",
    "        c = 0\n",
    "        self.samelen(s1, s2)\n",
    "        for i in range(len(s1):\n",
    "            if s1[i] + s2[i] < 10:\n",
    "                if c == 0:\n",
    "                    res.append(s1[i] + s2[i])\n",
    "                else:\n",
    "                    res.append(s1[i] + s2[i]+1)\n",
    "            else:\n",
    "                res.append(s1[i] + s2[i] - 10)\n",
    "                c = 1\n",
    "        len1 = max(len(s1), len(s2))\n",
    "        \n",
    "        return res"
   ]
  },
  {
   "cell_type": "code",
   "execution_count": 108,
   "metadata": {},
   "outputs": [
    {
     "name": "stdout",
     "output_type": "stream",
     "text": [
      "(2, 1)\n"
     ]
    }
   ],
   "source": [
    "for i in zip([2,3],[1]):\n",
    "    print(i)"
   ]
  },
  {
   "cell_type": "code",
   "execution_count": 105,
   "metadata": {
    "collapsed": true
   },
   "outputs": [],
   "source": [
    "import copy\n",
    "def trythis(array):\n",
    "    right_min = [array[-1]]\n",
    "    left_max = [array[0]]\n",
    "    # right\n",
    "    for i in range(len(array)-2, -1, -1):\n",
    "        if array[i] < right_min[-1]:\n",
    "            right_min.append(array[i])\n",
    "        else:\n",
    "            right_min.append(right_min[-1])\n",
    "    # left\n",
    "    for j in range(1,len(array),1):\n",
    "        if array[j] > left_max[-1]:\n",
    "            left_max.append(array[j])\n",
    "        else:\n",
    "            left_max.append(left_max[-1])\n",
    "    \n",
    "    print(right_min[::-1])\n",
    "    print(left_max)\n",
    "    res = []\n",
    "    temp = []\n",
    "    for index, (right, left) in enumerate(zip(right_min[::-1], left_max)):\n",
    "        if right >= left:\n",
    "            if temp != []:\n",
    "                res.append(copy.deepcopy(temp))\n",
    "                temp = []\n",
    "            res.append([array[index]])\n",
    "        else:\n",
    "            temp.append(array[index])\n",
    "    if res == []:\n",
    "        res = [temp]\n",
    "    return res"
   ]
  },
  {
   "cell_type": "code",
   "execution_count": 106,
   "metadata": {},
   "outputs": [
    {
     "name": "stdout",
     "output_type": "stream",
     "text": [
      "[3, 4, 5, 7, 7, 10, 12, 13]\n",
      "[3, 4, 5, 9, 9, 10, 12, 13]\n"
     ]
    },
    {
     "data": {
      "text/plain": [
       "[[3], [4], [5], [9, 7], [10], [12], [13]]"
      ]
     },
     "execution_count": 106,
     "metadata": {},
     "output_type": "execute_result"
    }
   ],
   "source": [
    "array1 = [3,4,5,9,7,10,12,13]\n",
    "trythis(array1)"
   ]
  },
  {
   "cell_type": "code",
   "execution_count": null,
   "metadata": {
    "collapsed": true
   },
   "outputs": [],
   "source": [
    "[3,4,5,9,2,7]"
   ]
  },
  {
   "cell_type": "code",
   "execution_count": 10,
   "metadata": {},
   "outputs": [
    {
     "data": {
      "text/plain": [
       "[[3, 4], [5], [9], [7, 10]]"
      ]
     },
     "execution_count": 10,
     "metadata": {},
     "output_type": "execute_result"
    }
   ],
   "source": [
    "array2 = [3,4,5,9,7,10]\n",
    "trythis(array2)"
   ]
  },
  {
   "cell_type": "code",
   "execution_count": null,
   "metadata": {
    "collapsed": true
   },
   "outputs": [],
   "source": [
    "[3],[4],[5],[9,7],[10]"
   ]
  },
  {
   "cell_type": "code",
   "execution_count": null,
   "metadata": {
    "collapsed": true
   },
   "outputs": [],
   "source": [
    "array2 = [3,4,5,6,7]\n",
    "trythis(array2)"
   ]
  },
  {
   "cell_type": "code",
   "execution_count": null,
   "metadata": {
    "collapsed": true
   },
   "outputs": [],
   "source": [
    "[[3],[4],[5],[6],[7]]"
   ]
  },
  {
   "cell_type": "code",
   "execution_count": 108,
   "metadata": {
    "collapsed": true
   },
   "outputs": [],
   "source": [
    "cache = {}\n",
    "def countArrangement(N):\n",
    "    def helper(i, X):\n",
    "        print \"i= \" + str(i)\n",
    "        \n",
    "        if i == 1:\n",
    "            return 1\n",
    "        key = (i, X)\n",
    "        print \"key\" \n",
    "        print key\n",
    "        \n",
    "        print \"cache\"\n",
    "        print cache\n",
    "        if key in cache:\n",
    "            return cache[key]\n",
    "        \n",
    "        total = 0\n",
    "        for j in xrange(len(X)): \n",
    "            if X[j] % i == 0 or i % X[j] == 0:\n",
    "                print X[j]\n",
    "                print \"--------------\"\n",
    "                total += helper(i - 1, X[:j] + X[j + 1:])\n",
    "        cache[key] = total\n",
    "        return total\n",
    "        \n",
    "    return helper(N, tuple(range(1, N + 1)))"
   ]
  },
  {
   "cell_type": "code",
   "execution_count": 109,
   "metadata": {},
   "outputs": [
    {
     "name": "stdout",
     "output_type": "stream",
     "text": [
      "i= 2\n",
      "key\n",
      "(2, (1, 2))\n",
      "cache\n",
      "{}\n",
      "1\n",
      "--------------\n",
      "i= 1\n",
      "2\n",
      "--------------\n",
      "i= 1\n"
     ]
    },
    {
     "data": {
      "text/plain": [
       "2"
      ]
     },
     "execution_count": 109,
     "metadata": {},
     "output_type": "execute_result"
    }
   ],
   "source": [
    "countArrangement(2)"
   ]
  },
  {
   "cell_type": "code",
   "execution_count": 36,
   "metadata": {},
   "outputs": [
    {
     "name": "stdout",
     "output_type": "stream",
     "text": [
      "(0, 0)\n",
      "[7]\n",
      "(1, 2)\n",
      "[7, 7]\n",
      "(1, 4)\n",
      "[7, 6, 7]\n",
      "(0, 3)\n",
      "[5, 7, 6, 7]\n",
      "(2, 5)\n",
      "[5, 7, 5, 6, 7]\n",
      "(4, 1)\n",
      "[5, 7, 5, 6, 4, 7]\n"
     ]
    },
    {
     "data": {
      "text/plain": [
       "[5, 7, 5, 6, 4, 7]"
      ]
     },
     "execution_count": 36,
     "metadata": {},
     "output_type": "execute_result"
    }
   ],
   "source": [
    "reconstructQueue([[7,0], [4,4], [7,1], [5,0], [6,1], [5,2]])"
   ]
  },
  {
   "cell_type": "code",
   "execution_count": 19,
   "metadata": {},
   "outputs": [
    {
     "name": "stdout",
     "output_type": "stream",
     "text": [
      "(0, 0)\n",
      "[[7, 0]]\n",
      "(1, 2)\n",
      "[[7, 0], [7, 1]]\n",
      "(1, 4)\n",
      "[[7, 0], [6, 1], [7, 1]]\n",
      "(0, 3)\n",
      "[[5, 0], [7, 0], [6, 1], [7, 1]]\n",
      "(2, 5)\n",
      "[[5, 0], [7, 0], [5, 2], [6, 1], [7, 1]]\n",
      "(4, 1)\n",
      "[[5, 0], [7, 0], [5, 2], [6, 1], [4, 4], [7, 1]]\n"
     ]
    },
    {
     "data": {
      "text/plain": [
       "[[5, 0], [7, 0], [5, 2], [6, 1], [4, 4], [7, 1]]"
      ]
     },
     "execution_count": 19,
     "metadata": {},
     "output_type": "execute_result"
    }
   ],
   "source": [
    "reconstructQueue([[7,0], [4,4], [7,1], [5,0], [6,1], [5,2]])"
   ]
  },
  {
   "cell_type": "code",
   "execution_count": 22,
   "metadata": {},
   "outputs": [
    {
     "name": "stdout",
     "output_type": "stream",
     "text": [
      "[0, 0, 0]\n",
      "[0, 0, 0, 0]\n",
      "[0, 0, 0, 0, 0]\n",
      "[0, 0, 0, 0, 0, 0]\n"
     ]
    },
    {
     "data": {
      "text/plain": [
       "0"
      ]
     },
     "execution_count": 22,
     "metadata": {},
     "output_type": "execute_result"
    }
   ],
   "source": [
    "numberOfArithmeticSlices([1,3,3,4,4,7])"
   ]
  },
  {
   "cell_type": "code",
   "execution_count": 3,
   "metadata": {},
   "outputs": [
    {
     "name": "stdout",
     "output_type": "stream",
     "text": [
      "(1,)\n"
     ]
    }
   ],
   "source": [
    "print filter(None, (1, 0))"
   ]
  },
  {
   "cell_type": "code",
   "execution_count": 6,
   "metadata": {},
   "outputs": [
    {
     "data": {
      "text/plain": [
       "[-1]"
      ]
     },
     "execution_count": 6,
     "metadata": {},
     "output_type": "execute_result"
    }
   ],
   "source": [
    "filter(lambda x: x < 0, [1,-1])"
   ]
  },
  {
   "cell_type": "code",
   "execution_count": 10,
   "metadata": {
    "collapsed": true
   },
   "outputs": [],
   "source": [
    "x = [1,2]\n",
    "x.reverse()"
   ]
  },
  {
   "cell_type": "code",
   "execution_count": 12,
   "metadata": {},
   "outputs": [
    {
     "data": {
      "text/plain": [
       "[1, 2]"
      ]
     },
     "execution_count": 12,
     "metadata": {},
     "output_type": "execute_result"
    }
   ],
   "source": [
    "[1,2][:2]"
   ]
  },
  {
   "cell_type": "code",
   "execution_count": 11,
   "metadata": {},
   "outputs": [
    {
     "data": {
      "text/plain": [
       "[3, 5, 6]"
      ]
     },
     "execution_count": 11,
     "metadata": {},
     "output_type": "execute_result"
    }
   ],
   "source": [
    "[1,3,1,5,4,6,7,7][1:6:2]"
   ]
  },
  {
   "cell_type": "code",
   "execution_count": 5,
   "metadata": {},
   "outputs": [
    {
     "data": {
      "text/plain": [
       "{3, 5, 6, 7}"
      ]
     },
     "execution_count": 5,
     "metadata": {},
     "output_type": "execute_result"
    }
   ],
   "source": [
    "set(n+2 for n in [1,3,1,5,4])"
   ]
  },
  {
   "cell_type": "code",
   "execution_count": 6,
   "metadata": {},
   "outputs": [
    {
     "data": {
      "text/plain": [
       "{3, 5}"
      ]
     },
     "execution_count": 6,
     "metadata": {},
     "output_type": "execute_result"
    }
   ],
   "source": [
    "set([1,3,1,5,4]) & set(n+2 for n in [1,3,1,5,4])"
   ]
  },
  {
   "cell_type": "code",
   "execution_count": 10,
   "metadata": {},
   "outputs": [
    {
     "ename": "TypeError",
     "evalue": "'bool' object is not iterable",
     "output_type": "error",
     "traceback": [
      "\u001b[0;31m---------------------------------------------------------------------------\u001b[0m",
      "\u001b[0;31mTypeError\u001b[0m                                 Traceback (most recent call last)",
      "\u001b[0;32m<ipython-input-10-5914c31424e8>\u001b[0m in \u001b[0;36m<module>\u001b[0;34m()\u001b[0m\n\u001b[1;32m      1\u001b[0m \u001b[1;32mimport\u001b[0m \u001b[0mcollections\u001b[0m\u001b[1;33m\u001b[0m\u001b[0m\n\u001b[0;32m----> 2\u001b[0;31m \u001b[0msum\u001b[0m\u001b[1;33m(\u001b[0m\u001b[0mcollections\u001b[0m\u001b[1;33m.\u001b[0m\u001b[0mCounter\u001b[0m\u001b[1;33m(\u001b[0m\u001b[1;33m[\u001b[0m\u001b[1;36m1\u001b[0m\u001b[1;33m,\u001b[0m\u001b[1;36m3\u001b[0m\u001b[1;33m,\u001b[0m\u001b[1;36m1\u001b[0m\u001b[1;33m,\u001b[0m\u001b[1;36m5\u001b[0m\u001b[1;33m,\u001b[0m\u001b[1;36m4\u001b[0m\u001b[1;33m]\u001b[0m\u001b[1;33m)\u001b[0m\u001b[1;33m.\u001b[0m\u001b[0mvalues\u001b[0m\u001b[1;33m(\u001b[0m\u001b[1;33m)\u001b[0m \u001b[1;33m>\u001b[0m \u001b[1;36m1\u001b[0m\u001b[1;33m)\u001b[0m\u001b[1;33m\u001b[0m\u001b[0m\n\u001b[0m",
      "\u001b[0;31mTypeError\u001b[0m: 'bool' object is not iterable"
     ]
    }
   ],
   "source": [
    "import collections\n",
    "sum(collections.Counter([1,3,1,5,4]).values() > 1)"
   ]
  },
  {
   "cell_type": "code",
   "execution_count": 9,
   "metadata": {
    "collapsed": true
   },
   "outputs": [],
   "source": [
    "def findAnagrams(s, p):\n",
    "    res = []\n",
    "    if s == \"\" or len(s) == 0 or p == \"\" or len(p)  == 0:\n",
    "        return res\n",
    "    hashtable = [0] * 128\n",
    "    for i in p :\n",
    "        hashtable[ord(i)] += 1\n",
    "    \n",
    "    left = 0 \n",
    "    right = 0\n",
    "    count = len(p)\n",
    "    \n",
    "    while right < len(s):\n",
    "#         //move right everytime, if the character exists in p's hash, decrease the count\n",
    "#         //current hash value >= 1 means the character is existing in p\n",
    "        if hashtable[ord(s[right])] >= 1:\n",
    "            count -= 1\n",
    "        hashtable[ord(s[right])] -= 1\n",
    "        right += 1\n",
    "        \n",
    "#         print sum(hashtable)\n",
    "        \n",
    "#         //when the count is down to 0, means we found the right anagram\n",
    "#         //then add window's left to result list        \n",
    "        if count == 0:\n",
    "            res.append(left)\n",
    "        \n",
    "#         //if we find the window's size equals to p, then we have to move left (narrow the window) to find the new match window\n",
    "#         //hashtable += 1 to reset the hash because we kicked out the left\n",
    "#         //only increase the count if the character is in p\n",
    "#         //the count >= 0 indicate it was original in the hash, cuz it won't go below 0\n",
    "        if right - left == len(p):\n",
    "            if hashtable[ord(s[left])] >= 0:\n",
    "                count += 1\n",
    "            hashtable[ord(s[left])] += 1\n",
    "            left += 1\n",
    "        \n",
    "        print right,left,sum(hashtable),count\n",
    "        \n",
    "    return res"
   ]
  },
  {
   "cell_type": "code",
   "execution_count": 4,
   "metadata": {
    "collapsed": true
   },
   "outputs": [],
   "source": [
    "def countAndSay(n):\n",
    "    import re\n",
    "    s = '1'\n",
    "    for _ in range(n - 1):\n",
    "        s = re.sub(r'(.)\\1*', lambda m: str(len(m.group(0))) + m.group(1), s)\n",
    "        print s\n",
    "    return s"
   ]
  },
  {
   "cell_type": "code",
   "execution_count": 6,
   "metadata": {},
   "outputs": [
    {
     "name": "stdout",
     "output_type": "stream",
     "text": [
      "11\n",
      "21\n"
     ]
    },
    {
     "data": {
      "text/plain": [
       "'21'"
      ]
     },
     "execution_count": 6,
     "metadata": {},
     "output_type": "execute_result"
    }
   ],
   "source": [
    "countAndSay(3)"
   ]
  },
  {
   "cell_type": "code",
   "execution_count": 87,
   "metadata": {
    "collapsed": true
   },
   "outputs": [],
   "source": [
    "def isValid(s):\n",
    "    dic = {\")\": \"(\", \"}\": \"{\", \"]\" :\"[\"}\n",
    "    temp = []\n",
    "    for i in s:\n",
    "        if i in dic.values():\n",
    "            temp.append(i)\n",
    "        elif i in dic.keys():\n",
    "            if temp == [] or dic[i] != temp.pop():\n",
    "                return False\n",
    "        else:\n",
    "            return False\n",
    "    return temp == []"
   ]
  },
  {
   "cell_type": "code",
   "execution_count": 88,
   "metadata": {},
   "outputs": [
    {
     "data": {
      "text/plain": [
       "True"
      ]
     },
     "execution_count": 88,
     "metadata": {},
     "output_type": "execute_result"
    }
   ],
   "source": [
    "isValid(\"(){}\")"
   ]
  },
  {
   "cell_type": "code",
   "execution_count": 85,
   "metadata": {
    "collapsed": true
   },
   "outputs": [],
   "source": [
    "def isValid1(s):\n",
    "    stack = []\n",
    "    dict = {\"]\":\"[\", \"}\":\"{\", \")\":\"(\"}\n",
    "    for char in s:\n",
    "        if char in dict.values():\n",
    "            stack.append(char)\n",
    "        elif char in dict.keys():\n",
    "            if stack == [] or dict[char] != stack.pop():\n",
    "                return False\n",
    "        else:\n",
    "            return False\n",
    "    return stack == []"
   ]
  },
  {
   "cell_type": "code",
   "execution_count": 86,
   "metadata": {},
   "outputs": [
    {
     "data": {
      "text/plain": [
       "True"
      ]
     },
     "execution_count": 86,
     "metadata": {},
     "output_type": "execute_result"
    }
   ],
   "source": [
    "isValid1(\"(){}\")"
   ]
  },
  {
   "cell_type": "code",
   "execution_count": 6,
   "metadata": {
    "collapsed": true
   },
   "outputs": [],
   "source": [
    "def generate(numRows):\n",
    "        res = [[1]]\n",
    "        for i in range(1, numRows):\n",
    "            res += [map(lambda x, y: x+y, res[-1] + [0], [0] + res[-1])]\n",
    "        return res"
   ]
  },
  {
   "cell_type": "code",
   "execution_count": 11,
   "metadata": {},
   "outputs": [
    {
     "name": "stdout",
     "output_type": "stream",
     "text": [
      "0 6\n",
      "1 7\n",
      "2 0\n",
      "3 6\n",
      "4 7\n",
      "5 0\n"
     ]
    }
   ],
   "source": [
    "for i,j in enumerate(l):\n",
    "    print i,j"
   ]
  },
  {
   "cell_type": "code",
   "execution_count": 10,
   "metadata": {
    "collapsed": true
   },
   "outputs": [],
   "source": [
    "l = [6, 7, 0, 6, 7, 0]"
   ]
  },
  {
   "cell_type": "code",
   "execution_count": 4,
   "metadata": {
    "collapsed": true
   },
   "outputs": [],
   "source": [
    "map = ['0','1','2','3','4','5','6','7','8','9','a','b','c','d','e','f']\n",
    "def toHex(num):\n",
    "    if num == 0:\n",
    "        return \"0\"\n",
    "    result = \"\"\n",
    "    while num != 0:\n",
    "        result = map[(num & 15)] + result\n",
    "        num = (num >> 4)\n",
    "    return result\n",
    "# each time we take a look at the last four digits of binary verion of the input, and maps that to a hex char \n",
    "# shift the input to the right by 4 bits, do it again until input becomes 0."
   ]
  },
  {
   "cell_type": "code",
   "execution_count": 4,
   "metadata": {},
   "outputs": [
    {
     "data": {
      "text/plain": [
       "[1, 3, 5, 6, 4]"
      ]
     },
     "execution_count": 4,
     "metadata": {},
     "output_type": "execute_result"
    }
   ],
   "source": [
    "[1,3,5,6]+[4]"
   ]
  },
  {
   "cell_type": "code",
   "execution_count": 1,
   "metadata": {},
   "outputs": [
    {
     "data": {
      "text/plain": [
       "[0, 0, 0, 0, 0]"
      ]
     },
     "execution_count": 1,
     "metadata": {},
     "output_type": "execute_result"
    }
   ],
   "source": [
    "[0] * 5"
   ]
  },
  {
   "cell_type": "code",
   "execution_count": 7,
   "metadata": {},
   "outputs": [
    {
     "data": {
      "text/plain": [
       "'11010'"
      ]
     },
     "execution_count": 7,
     "metadata": {},
     "output_type": "execute_result"
    }
   ],
   "source": [
    "'{0:0b}'.format(26)"
   ]
  },
  {
   "cell_type": "code",
   "execution_count": 8,
   "metadata": {},
   "outputs": [
    {
     "data": {
      "text/plain": [
       "'1111'"
      ]
     },
     "execution_count": 8,
     "metadata": {},
     "output_type": "execute_result"
    }
   ],
   "source": [
    "'{0:0b}'.format(15)"
   ]
  },
  {
   "cell_type": "code",
   "execution_count": 47,
   "metadata": {},
   "outputs": [
    {
     "name": "stdout",
     "output_type": "stream",
     "text": [
      "('23', '45')\n"
     ]
    }
   ],
   "source": [
    "for i in z:\n",
    "    print i"
   ]
  },
  {
   "cell_type": "code",
   "execution_count": 35,
   "metadata": {
    "collapsed": true
   },
   "outputs": [],
   "source": [
    "def findRelativeRanks( nums):\n",
    "    "
   ]
  },
  {
   "cell_type": "code",
   "execution_count": 31,
   "metadata": {
    "collapsed": true
   },
   "outputs": [],
   "source": [
    "nums=[4,5,1,3,2]"
   ]
  },
  {
   "cell_type": "code",
   "execution_count": 36,
   "metadata": {},
   "outputs": [
    {
     "name": "stdout",
     "output_type": "stream",
     "text": [
      "[1, 1, 1, 1, 1]\n"
     ]
    }
   ],
   "source": [
    "print findRelativeRanks( nums)"
   ]
  },
  {
   "cell_type": "code",
   "execution_count": 23,
   "metadata": {
    "collapsed": true
   },
   "outputs": [],
   "source": [
    "s=  sorted(nums,reverse=True)"
   ]
  },
  {
   "cell_type": "code",
   "execution_count": 25,
   "metadata": {},
   "outputs": [
    {
     "data": {
      "text/plain": [
       "0"
      ]
     },
     "execution_count": 25,
     "metadata": {},
     "output_type": "execute_result"
    }
   ],
   "source": [
    "s.index(5)"
   ]
  },
  {
   "cell_type": "code",
   "execution_count": 53,
   "metadata": {
    "collapsed": true
   },
   "outputs": [],
   "source": [
    "def addStrings(num1, num2):\n",
    "    z = itertools.izip_longest(num1[::-1], num2[::-1], fillvalue='0')\n",
    "    res, carry, zero2 = [], 0, 2*ord('0')\n",
    "    for i in z:\n",
    "        print i\n",
    "        cur_sum = ord(i[0]) + ord(i[1]) - zero2 + carry\n",
    "        print cur_sum\n",
    "        res.append(str(cur_sum % 10))\n",
    "        carry = cur_sum // 10\n",
    "        print carry\n",
    "    print res\n",
    "    print ''.join(res[::-1])\n",
    "    return ('1' if carry else '') + ''.join(res[::-1])"
   ]
  },
  {
   "cell_type": "code",
   "execution_count": 57,
   "metadata": {},
   "outputs": [
    {
     "name": "stdout",
     "output_type": "stream",
     "text": [
      "('9', '5')\n",
      "14\n",
      "1\n",
      "('7', '4')\n",
      "12\n",
      "1\n",
      "['4', '2']\n",
      "24\n"
     ]
    },
    {
     "data": {
      "text/plain": [
       "'124'"
      ]
     },
     "execution_count": 57,
     "metadata": {},
     "output_type": "execute_result"
    }
   ],
   "source": [
    "addStrings('79','45')"
   ]
  },
  {
   "cell_type": "code",
   "execution_count": 3,
   "metadata": {},
   "outputs": [
    {
     "data": {
      "text/plain": [
       "{0: 'Hello', 1: 'Alaska', 2: 'Dad', 3: 'Peace'}"
      ]
     },
     "execution_count": 3,
     "metadata": {},
     "output_type": "execute_result"
    }
   ],
   "source": [
    "words= [\"Hello\",\"Alaska\",\"Dad\",\"Peace\"]\n",
    "dict(enumerate(words))"
   ]
  },
  {
   "cell_type": "code",
   "execution_count": 4,
   "metadata": {},
   "outputs": [
    {
     "name": "stdout",
     "output_type": "stream",
     "text": [
      "0\n",
      "1\n",
      "2\n",
      "3\n"
     ]
    }
   ],
   "source": [
    "for i in dict(enumerate(words)).keys():\n",
    "    dict[i] == "
   ]
  },
  {
   "cell_type": "code",
   "execution_count": 39,
   "metadata": {},
   "outputs": [
    {
     "data": {
      "text/plain": [
       "['Alaska', 'Dad']"
      ]
     },
     "execution_count": 39,
     "metadata": {},
     "output_type": "execute_result"
    }
   ],
   "source": [
    "filter(re.compile('(?i)([qwertyuiop]*|[asdfghjkl]*|[zxcvbnm]*)$').match, words)"
   ]
  },
  {
   "cell_type": "code",
   "execution_count": null,
   "metadata": {
    "collapsed": true
   },
   "outputs": [],
   "source": []
  },
  {
   "cell_type": "code",
   "execution_count": null,
   "metadata": {
    "collapsed": true
   },
   "outputs": [],
   "source": []
  },
  {
   "cell_type": "code",
   "execution_count": null,
   "metadata": {
    "collapsed": true
   },
   "outputs": [],
   "source": []
  },
  {
   "cell_type": "code",
   "execution_count": null,
   "metadata": {
    "collapsed": true
   },
   "outputs": [],
   "source": []
  }
 ],
 "metadata": {
  "kernelspec": {
   "display_name": "Python 3",
   "language": "python",
   "name": "python3"
  },
  "language_info": {
   "codemirror_mode": {
    "name": "ipython",
    "version": 3
   },
   "file_extension": ".py",
   "mimetype": "text/x-python",
   "name": "python",
   "nbconvert_exporter": "python",
   "pygments_lexer": "ipython3",
   "version": "3.6.2"
  }
 },
 "nbformat": 4,
 "nbformat_minor": 1
}

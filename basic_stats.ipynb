{
 "cells": [
  {
   "cell_type": "code",
   "execution_count": 1,
   "metadata": {
    "collapsed": false
   },
   "outputs": [],
   "source": [
    "import numpy as np"
   ]
  },
  {
   "cell_type": "markdown",
   "metadata": {},
   "source": [
    "## Basie stats"
   ]
  },
  {
   "cell_type": "code",
   "execution_count": 165,
   "metadata": {
    "collapsed": false
   },
   "outputs": [],
   "source": [
    "def stats(lis):\n",
    "    m = np.mean(lis) \n",
    "    var = np.var(lis)\n",
    "    std =  np.std(lis)  # variance divide by len(lis)\n",
    "    se = std * np.sqrt(len(lis)) / (np.sqrt(len(lis)-1))\n",
    "    return m,std,se"
   ]
  },
  {
   "cell_type": "markdown",
   "metadata": {},
   "source": [
    "## One sample - pop. std is known"
   ]
  },
  {
   "cell_type": "code",
   "execution_count": null,
   "metadata": {
    "collapsed": true
   },
   "outputs": [],
   "source": [
    "# have to know pop std\n",
    "def ci_z(lis,sd, z):\n",
    "    m,std,se,t = stats(lis)\n",
    "    ci = (m-z*(sd/len(lis)) , m+z*(sd/len(lis)) )\n",
    "    return ci"
   ]
  },
  {
   "cell_type": "markdown",
   "metadata": {},
   "source": [
    "p-value http://www.graphpad.com/quickcalcs/pValue2/"
   ]
  },
  {
   "cell_type": "markdown",
   "metadata": {},
   "source": [
    "One-sample t  https://s3.amazonaws.com/udacity-hosted-downloads/t-table.jpg"
   ]
  },
  {
   "cell_type": "markdown",
   "metadata": {},
   "source": [
    "## One sample - pop. std is unknown"
   ]
  },
  {
   "cell_type": "code",
   "execution_count": 166,
   "metadata": {
    "collapsed": false
   },
   "outputs": [],
   "source": [
    "def ci_t(lis,t_critical):\n",
    "    m,std,se = stats(lis)\n",
    "    t = m/(se/np.sqrt(len(lis)))\n",
    "    ci = (m-(se/np.sqrt(len(lis))*t_critical) ,m+(se/np.sqrt(len(lis))*t_critical))\n",
    "    return t,ci"
   ]
  },
  {
   "cell_type": "markdown",
   "metadata": {},
   "source": [
    "## Two-sample t - Dependent"
   ]
  },
  {
   "cell_type": "markdown",
   "metadata": {},
   "source": [
    "### Df is the len(l1) - 1 or   len(l2) - 1 as len(l1) = len(l2)"
   ]
  },
  {
   "cell_type": "code",
   "execution_count": 167,
   "metadata": {
    "collapsed": true
   },
   "outputs": [],
   "source": [
    "def two_t_dp(l1,l2,t_critical=0):\n",
    "    diff = [l1 - l2 for l1, l2 in zip(l1,l2)]\n",
    "    t,ci = ci_t(diff,t_critical)\n",
    "    return t,ci   "
   ]
  },
  {
   "cell_type": "code",
   "execution_count": 168,
   "metadata": {
    "collapsed": false
   },
   "outputs": [
    {
     "name": "stdout",
     "output_type": "stream",
     "text": [
      "-0.371925358463\n",
      "(-2.1045849239476784, 1.3945849239476766)\n"
     ]
    }
   ],
   "source": [
    "t,ci=two_t_dp(lis1,lis2,1.833)\n",
    "print t\n",
    "print ci"
   ]
  },
  {
   "cell_type": "markdown",
   "metadata": {},
   "source": [
    "## Two-sample t - Independent"
   ]
  },
  {
   "cell_type": "markdown",
   "metadata": {},
   "source": [
    "### Df is the len(l1) + len(l2) - 2"
   ]
  },
  {
   "cell_type": "markdown",
   "metadata": {},
   "source": [
    "If the two standard deviations are similar (neither is more than twice of the other), then the pooled standard error is used:"
   ]
  },
  {
   "cell_type": "code",
   "execution_count": 176,
   "metadata": {
    "collapsed": true
   },
   "outputs": [],
   "source": [
    "l1=[16.5,\n",
    "16.5,\n",
    "15.2,\n",
    "17.3,\n",
    "22.5,\n",
    "17.3,\n",
    "13.6,\n",
    "14.5,\n",
    "18.8,\n",
    "15.5,\n",
    "19.7,\n",
    "23.3,\n",
    "23.6,\n",
    "26.4,\n",
    "20,\n",
    "25.2,\n",
    "25.8,\n",
    "21.2,\n",
    "14.5,\n",
    "27.3]\n",
    "l2=[26.4,\n",
    "30.9,\n",
    "22.4,\n",
    "23,\n",
    "25.5,\n",
    "29.4,\n",
    "23.6,\n",
    "24.8,\n",
    "26.7,\n",
    "33.9,\n",
    "26.4,\n",
    "29.5,\n",
    "32.5,\n",
    "21.5,\n",
    "25.5,\n",
    "18.5,\n",
    "23.3]"
   ]
  },
  {
   "cell_type": "code",
   "execution_count": 177,
   "metadata": {
    "collapsed": false
   },
   "outputs": [
    {
     "data": {
      "text/plain": [
       "35"
      ]
     },
     "execution_count": 177,
     "metadata": {},
     "output_type": "execute_result"
    }
   ],
   "source": [
    "len(l1)+len(l2)-2"
   ]
  },
  {
   "cell_type": "code",
   "execution_count": 180,
   "metadata": {
    "collapsed": false
   },
   "outputs": [],
   "source": [
    "def two_t_ind(l1,l2,t_critical=0):\n",
    "    m1,std1,se1 = stats(l1)\n",
    "    m2,std2,se2 = stats(l2)\n",
    "    if (se1 / se2 > 2) or (se2 / se1 > 2) :\n",
    "        print 'unpooled se'\n",
    "        u_p_se = np.sqrt(se1**2/len(l1) + se2**2/len(l2))\n",
    "        t = (m1-m2)/u_p_se\n",
    "        ci = ((m1-m2)-u_p_se*t_critical ,(m1-m2)+u_p_se*t_critical)\n",
    "        r_2 = t**2/(t**2+len(l1)+len(l2)-2)\n",
    "        return u_p_se,t,ci,r_2\n",
    "    else:\n",
    "        print 'pooled se'\n",
    "        s_p_2 = (std1**2 * len(l1) + std2**2 * len(l2))/(len(l1)+len(l2)-2)\n",
    "        p_se =  np.sqrt(s_p_2/len(l1) + s_p_2/len(l2))\n",
    "        t = (m1-m2)/p_se\n",
    "        ci = ((m1-m2)-p_se*t_critical ,(m1-m2)+p_se*t_critical)\n",
    "        r_2 = t**2/(t**2+len(l1)+len(l2)-2)\n",
    "        return p_se,t,ci,r_2"
   ]
  },
  {
   "cell_type": "code",
   "execution_count": 183,
   "metadata": {
    "collapsed": false
   },
   "outputs": [
    {
     "name": "stdout",
     "output_type": "stream",
     "text": [
      "pooled se\n"
     ]
    }
   ],
   "source": [
    "se,t,ci,r_2 = two_t_ind(l1,l2,2.727)"
   ]
  },
  {
   "cell_type": "code",
   "execution_count": 184,
   "metadata": {
    "collapsed": false
   },
   "outputs": [
    {
     "name": "stdout",
     "output_type": "stream",
     "text": [
      "1.40730601855\n",
      "-4.52700568956\n",
      "(-10.20860586553632, -2.5331588403460263)\n"
     ]
    }
   ],
   "source": [
    "print se\n",
    "print t\n",
    "print ci"
   ]
  }
 ],
 "metadata": {
  "kernelspec": {
   "display_name": "Python 2",
   "language": "python",
   "name": "python2"
  },
  "language_info": {
   "codemirror_mode": {
    "name": "ipython",
    "version": 2
   },
   "file_extension": ".py",
   "mimetype": "text/x-python",
   "name": "python",
   "nbconvert_exporter": "python",
   "pygments_lexer": "ipython2",
   "version": "2.7.7"
  }
 },
 "nbformat": 4,
 "nbformat_minor": 0
}

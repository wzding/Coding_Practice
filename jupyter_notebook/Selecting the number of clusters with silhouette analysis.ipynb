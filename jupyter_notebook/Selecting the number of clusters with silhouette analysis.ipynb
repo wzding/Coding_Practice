{
 "cells": [
  {
   "cell_type": "code",
   "execution_count": 1,
   "metadata": {
    "collapsed": true
   },
   "outputs": [],
   "source": [
    "from __future__ import print_function\n",
    "\n",
    "from sklearn.datasets import make_blobs\n",
    "from sklearn.cluster import KMeans\n",
    "from sklearn.metrics import silhouette_samples, silhouette_score\n",
    "\n",
    "import matplotlib.pyplot as plt\n",
    "import matplotlib.cm as cm\n",
    "import numpy as np"
   ]
  },
  {
   "cell_type": "markdown",
   "metadata": {},
   "source": [
    "### Silhouette analysis can be used to study the separation distance between the resulting clusters. The silhouette plot displays a measure of how close each point in one cluster is to points in the neighboring clusters and thus provides a way to assess parameters like number of clusters visually. This measure has a range of [-1, 1]."
   ]
  },
  {
   "cell_type": "code",
   "execution_count": 2,
   "metadata": {
    "collapsed": false
   },
   "outputs": [
    {
     "name": "stdout",
     "output_type": "stream",
     "text": [
      "Automatically created module for IPython interactive environment\n"
     ]
    }
   ],
   "source": [
    "print(__doc__)"
   ]
  },
  {
   "cell_type": "code",
   "execution_count": 12,
   "metadata": {
    "collapsed": true
   },
   "outputs": [],
   "source": [
    "# Generating the sample data from make_blobs\n",
    "# This particular setting has one distict cluster and 3 clusters placed close\n",
    "# together.\n",
    "X, y = make_blobs(n_samples=500,\n",
    "                  n_features=2,\n",
    "                  centers=4,\n",
    "                  cluster_std=1,\n",
    "                  center_box=(-10.0, 10.0),\n",
    "                  shuffle=True,\n",
    "                  random_state=1)  # For reproducibility\n",
    "\n",
    "range_n_clusters = [2, 3, 4, 5, 6]\n"
   ]
  },
  {
   "cell_type": "code",
   "execution_count": 16,
   "metadata": {
    "collapsed": false
   },
   "outputs": [
    {
     "data": {
      "text/plain": [
       "(500L, 2L)"
      ]
     },
     "execution_count": 16,
     "metadata": {},
     "output_type": "execute_result"
    }
   ],
   "source": [
    "X.shape"
   ]
  },
  {
   "cell_type": "code",
   "execution_count": 17,
   "metadata": {
    "collapsed": false
   },
   "outputs": [
    {
     "data": {
      "text/plain": [
       "500"
      ]
     },
     "execution_count": 17,
     "metadata": {},
     "output_type": "execute_result"
    }
   ],
   "source": [
    "len(y)"
   ]
  },
  {
   "cell_type": "code",
   "execution_count": 4,
   "metadata": {
    "collapsed": false
   },
   "outputs": [
    {
     "name": "stdout",
     "output_type": "stream",
     "text": [
      "For n_clusters = 2 The average silhouette_score is : 0.704978749608\n",
      "For n_clusters = 3 The average silhouette_score is : 0.588200401213\n",
      "For n_clusters = 4 The average silhouette_score is : 0.650518663273\n",
      "For n_clusters = 5 The average silhouette_score is : 0.563764690262\n",
      "For n_clusters = 6 The average silhouette_score is : 0.450301208266\n"
     ]
    }
   ],
   "source": [
    "for n_clusters in range_n_clusters:\n",
    "    # Create a subplot with 1 row and 2 columns\n",
    "    fig, (ax1, ax2) = plt.subplots(1, 2)\n",
    "    fig.set_size_inches(18, 7)\n",
    "\n",
    "    # The 1st subplot is the silhouette plot\n",
    "    # The silhouette coefficient can range from -1, 1 but in this example all\n",
    "    # lie within [-0.1, 1]\n",
    "    ax1.set_xlim([-0.1, 1])\n",
    "    # The (n_clusters+1)*10 is for inserting blank space between silhouette\n",
    "    # plots of individual clusters, to demarcate them clearly.\n",
    "    ax1.set_ylim([0, len(X) + (n_clusters + 1) * 10])\n",
    "\n",
    "    # Initialize the clusterer with n_clusters value and a random generator\n",
    "    # seed of 10 for reproducibility.\n",
    "    clusterer = KMeans(n_clusters=n_clusters, random_state=10)\n",
    "    cluster_labels = clusterer.fit_predict(X)\n",
    "\n",
    "    # The silhouette_score gives the average value for all the samples.\n",
    "    # This gives a perspective into the density and separation of the formed\n",
    "    # clusters\n",
    "    silhouette_avg = silhouette_score(X, cluster_labels)\n",
    "    print(\"For n_clusters =\", n_clusters,\n",
    "          \"The average silhouette_score is :\", silhouette_avg)\n",
    "\n",
    "    # Compute the silhouette scores for each sample\n",
    "    sample_silhouette_values = silhouette_samples(X, cluster_labels)\n"
   ]
  },
  {
   "cell_type": "code",
   "execution_count": 18,
   "metadata": {
    "collapsed": true
   },
   "outputs": [
    {
     "data": {
      "text/plain": [
       "array([ 0.34677463,  0.49207782,  0.56874701,  0.50693982,  0.35586634,\n",
       "        0.47083124,  0.69497001,  0.59361364,  0.04170062,  0.73774366,\n",
       "        0.48268728,  0.01941005,  0.67057392,  0.32385827,  0.45520941,\n",
       "        0.44984459,  0.10407067,  0.2520883 ,  0.03331125,  0.59817005,\n",
       "        0.71283934,  0.67535737,  0.57265368,  0.47616302,  0.64907014,\n",
       "        0.49456419, -0.02614123,  0.50894317,  0.63697831,  0.70638764,\n",
       "        0.22006843,  0.48974316,  0.74673339,  0.03780326,  0.72308421,\n",
       "        0.51782812,  0.69122689,  0.61408609,  0.41806934,  0.5736876 ,\n",
       "        0.65173057,  0.57170711,  0.39289233,  0.51539606,  0.64210979,\n",
       "        0.52742176,  0.5810399 ,  0.66828309,  0.28894641,  0.22423532,\n",
       "        0.43764318,  0.64921721,  0.54264388,  0.72893369,  0.40841947,\n",
       "        0.70586969,  0.56644356,  0.31539623,  0.53502168,  0.46642802,\n",
       "        0.17286952,  0.15152279,  0.45950871,  0.54091102,  0.32044708,\n",
       "        0.67488435,  0.30193847,  0.69828496,  0.68261503,  0.39372462,\n",
       "        0.13480852,  0.69025985,  0.66878663,  0.3483176 ,  0.71509356,\n",
       "        0.6892646 ,  0.070172  ,  0.54202457,  0.71295463,  0.36248258,\n",
       "        0.34375358,  0.4085869 ,  0.61372577,  0.15306818,  0.49427128,\n",
       "        0.71138425,  0.18771838,  0.39869275,  0.63221928,  0.46387655,\n",
       "        0.41033053,  0.51274562,  0.37777029,  0.45328262,  0.23764978,\n",
       "        0.30449934,  0.48707377,  0.50074016,  0.16556763,  0.3312949 ,\n",
       "        0.48917259,  0.17678473,  0.44237817,  0.61988985,  0.49372832,\n",
       "        0.52377897,  0.7445421 ,  0.28476118,  0.23350971,  0.70848258,\n",
       "        0.42812538,  0.11484534,  0.4327553 ,  0.62082982,  0.29938047,\n",
       "        0.6651779 ,  0.15347102,  0.5199957 ,  0.2421789 ,  0.74077603,\n",
       "        0.65532414,  0.43616501,  0.36804648,  0.55224643,  0.48055857,\n",
       "        0.66741519,  0.2866142 ,  0.1545894 ,  0.43514769,  0.71760788,\n",
       "        0.21810368,  0.61332244,  0.57773594,  0.69304956,  0.57800731,\n",
       "        0.45778975,  0.10748319,  0.5208284 ,  0.43125808,  0.29066064,\n",
       "        0.67428209,  0.43938589,  0.65774251,  0.34294427,  0.50375797,\n",
       "        0.30407068,  0.64807401,  0.73316906, -0.02098027,  0.50852014,\n",
       "        0.56303874,  0.41110312,  0.36390075,  0.27563318,  0.32572317,\n",
       "        0.71015691,  0.60825104,  0.57179739,  0.70698875,  0.68404942,\n",
       "        0.58288573,  0.68714713,  0.64449439,  0.59025813,  0.31856502,\n",
       "        0.29561034,  0.36168964,  0.41615648,  0.7319289 ,  0.28953915,\n",
       "        0.27140781,  0.52764764,  0.71257124,  0.50883794,  0.15097241,\n",
       "        0.44519357,  0.62234096,  0.7135958 ,  0.56827304,  0.21138695,\n",
       "        0.65822525,  0.49294385,  0.41573897,  0.18644995,  0.55457718,\n",
       "        0.08047091,  0.73162901,  0.35734093,  0.23921369,  0.09902922,\n",
       "        0.16907428,  0.06254031,  0.54286163,  0.44796987,  0.74355075,\n",
       "        0.10953649,  0.69932091,  0.54272157,  0.24887488,  0.506328  ,\n",
       "        0.54541493,  0.51847812,  0.33980988,  0.61896562,  0.68194088,\n",
       "        0.42538229,  0.6780356 ,  0.37213617,  0.34562825,  0.58575901,\n",
       "        0.61220117,  0.44904389,  0.44978658,  0.30902531,  0.61532245,\n",
       "        0.71573173,  0.68395301,  0.1651639 ,  0.25868864,  0.41498563,\n",
       "        0.66728677,  0.13618745,  0.56005883,  0.69484857,  0.62170927,\n",
       "        0.70800301,  0.69874264,  0.45071049,  0.48855499,  0.49172818,\n",
       "        0.38789467,  0.64460679,  0.54553638,  0.55855882,  0.33226335,\n",
       "        0.44961459,  0.22059507,  0.10487929,  0.06540383,  0.467216  ,\n",
       "        0.73725579,  0.33769126,  0.29446391,  0.28384804,  0.30036909,\n",
       "        0.32379878,  0.44415111,  0.5541902 ,  0.51936258,  0.592529  ,\n",
       "        0.60144595,  0.09595547,  0.16648852,  0.69530377,  0.57065007,\n",
       "        0.02001841,  0.61456333,  0.32969778,  0.51419794,  0.00982325,\n",
       "        0.51085835,  0.45097822,  0.56884059,  0.6002465 ,  0.33895385,\n",
       "        0.73297478,  0.50324495,  0.19824549,  0.57954927,  0.66632703,\n",
       "        0.60647615,  0.61868338,  0.42874897,  0.48281942,  0.52876397,\n",
       "        0.11023581,  0.71647383,  0.40458092,  0.19224178, -0.00179488,\n",
       "        0.30810118,  0.48851164,  0.25652514,  0.27248291,  0.42098237,\n",
       "        0.36338101,  0.49324763,  0.25089188,  0.68847417,  0.28303588,\n",
       "        0.35067302,  0.72473866,  0.65137444,  0.10335477,  0.14222564,\n",
       "        0.39945197,  0.21201434,  0.29921803,  0.47349619,  0.64796915,\n",
       "        0.4069702 ,  0.69603463,  0.55258787,  0.63271993,  0.09065818,\n",
       "        0.5038488 ,  0.53862165,  0.44808353,  0.31073996,  0.59333828,\n",
       "        0.23453165,  0.21164296,  0.71298862,  0.7309591 ,  0.2130731 ,\n",
       "        0.27845003,  0.47487839,  0.14107387,  0.49074143,  0.51098511,\n",
       "        0.7430618 ,  0.55488974,  0.20274121,  0.02688053,  0.33774875,\n",
       "        0.69425488,  0.41854208,  0.65011377,  0.70471583,  0.25393537,\n",
       "        0.43748909,  0.19502895,  0.04723989,  0.34932082,  0.3742382 ,\n",
       "        0.46514973,  0.21689719,  0.61389645,  0.4502368 ,  0.58864355,\n",
       "        0.37664107,  0.6269236 ,  0.31434536,  0.34362805,  0.67877371,\n",
       "        0.2293449 ,  0.08589963,  0.10793167,  0.1138449 ,  0.55543093,\n",
       "        0.46244006,  0.70833453,  0.40953321,  0.56680404,  0.69065924,\n",
       "        0.33367213,  0.39940806,  0.63853449,  0.12942169,  0.49528133,\n",
       "        0.43020251,  0.70490749,  0.51656264,  0.62346614,  0.01307421,\n",
       "        0.52945559,  0.70760072,  0.29443537,  0.18133071,  0.55275394,\n",
       "        0.04274524,  0.04943544,  0.35198442,  0.1847038 ,  0.40900418,\n",
       "        0.05147764,  0.48045012,  0.39077284,  0.48459033,  0.50104754,\n",
       "        0.16950883,  0.66230444,  0.49346605,  0.5573909 ,  0.59775553,\n",
       "        0.20503353,  0.30830229,  0.08438837, -0.01270626,  0.31744163,\n",
       "        0.36922861,  0.13500412,  0.2262658 ,  0.68459348,  0.31569106,\n",
       "        0.68062879,  0.16176737,  0.42568149,  0.40810915,  0.24452694,\n",
       "        0.66876961,  0.71456765,  0.30573572,  0.60143677,  0.74630908,\n",
       "        0.49338454,  0.49296987,  0.62644599,  0.29878378,  0.67137435,\n",
       "        0.43270865,  0.17895612,  0.34183334,  0.21529482,  0.48220231,\n",
       "        0.44970014,  0.17816915,  0.40359002,  0.65821472,  0.7354976 ,\n",
       "        0.35150564,  0.46596093,  0.66932736,  0.40924902,  0.45491766,\n",
       "        0.66041079,  0.37920417,  0.35331829,  0.67611945,  0.68825998,\n",
       "        0.60989955,  0.69000137,  0.53300389,  0.33128934,  0.38178803,\n",
       "        0.71238683,  0.44619439,  0.16756351,  0.44067796,  0.43940305,\n",
       "        0.687513  ,  0.41253804,  0.0243347 ,  0.48748423,  0.64902271,\n",
       "        0.6941722 ,  0.65726951,  0.68718254,  0.47036278,  0.72448022,\n",
       "        0.70672291,  0.54967145,  0.73743818,  0.73906378,  0.55513738,\n",
       "        0.49017537,  0.36297509,  0.66990118,  0.35968526,  0.7128457 ,\n",
       "        0.3139125 ,  0.61608071,  0.18679462,  0.74332248,  0.70891753,\n",
       "        0.26888008,  0.0123614 ,  0.34707546,  0.4681842 ,  0.467334  ,\n",
       "        0.73369094,  0.44436989,  0.46402181,  0.61389132,  0.46967122,\n",
       "        0.71247132, -0.03120211,  0.50274817,  0.49893897,  0.10521298,\n",
       "        0.4554901 ,  0.65073317,  0.31524896,  0.45137931,  0.25404966,\n",
       "        0.64453164,  0.42250976,  0.35438736,  0.60661951,  0.36012837,\n",
       "        0.38390746,  0.45809034,  0.69874671,  0.29916183,  0.5755066 ,\n",
       "        0.2330111 ,  0.50657542,  0.39811236,  0.4507358 ,  0.69459423])"
      ]
     },
     "execution_count": 18,
     "metadata": {},
     "output_type": "execute_result"
    }
   ],
   "source": [
    "sample_silhouette_values"
   ]
  },
  {
   "cell_type": "code",
   "execution_count": 10,
   "metadata": {
    "collapsed": false
   },
   "outputs": [
    {
     "data": {
      "text/plain": [
       "<matplotlib.collections.PathCollection at 0x18319cf8>"
      ]
     },
     "execution_count": 10,
     "metadata": {},
     "output_type": "execute_result"
    }
   ],
   "source": [
    "y_lower = 10\n",
    "for i in range(n_clusters):\n",
    "    # Aggregate the silhouette scores for samples belonging to\n",
    "    # cluster i, and sort them\n",
    "    ith_cluster_silhouette_values = sample_silhouette_values[cluster_labels == i]\n",
    "\n",
    "    ith_cluster_silhouette_values.sort()\n",
    "\n",
    "    size_cluster_i = ith_cluster_silhouette_values.shape[0]\n",
    "    y_upper = y_lower + size_cluster_i\n",
    "\n",
    "    color = cm.spectral(float(i) / n_clusters)\n",
    "    ax1.fill_betweenx(np.arange(y_lower, y_upper),\n",
    "                      0, ith_cluster_silhouette_values,\n",
    "                      facecolor=color, edgecolor=color, alpha=0.7)\n",
    "\n",
    "    # Label the silhouette plots with their cluster numbers at the middle\n",
    "    ax1.text(-0.05, y_lower + 0.5 * size_cluster_i, str(i))\n",
    "\n",
    "    # Compute the new y_lower for next plot\n",
    "    y_lower = y_upper + 10  # 10 for the 0 samples\n",
    "\n",
    "ax1.set_title(\"The silhouette plot for the various clusters.\")\n",
    "ax1.set_xlabel(\"The silhouette coefficient values\")\n",
    "ax1.set_ylabel(\"Cluster label\")\n",
    "\n",
    "# The vertical line for average silhoutte score of all the values\n",
    "ax1.axvline(x=silhouette_avg, color=\"red\", linestyle=\"--\")\n",
    "\n",
    "ax1.set_yticks([])  # Clear the yaxis labels / ticks\n",
    "ax1.set_xticks([-0.1, 0, 0.2, 0.4, 0.6, 0.8, 1])\n",
    "\n",
    "# 2nd Plot showing the actual clusters formed\n",
    "colors = cm.spectral(cluster_labels.astype(float) / n_clusters)\n",
    "ax2.scatter(X[:, 0], X[:, 1], marker='.', s=30, lw=0, alpha=0.7,\n",
    "            c=colors)\n",
    "\n",
    "# Labeling the clusters\n",
    "centers = clusterer.cluster_centers_\n",
    "# Draw white circles at cluster centers\n",
    "ax2.scatter(centers[:, 0], centers[:, 1],\n",
    "            marker='o', c=\"white\", alpha=1, s=200)\n",
    "\n"
   ]
  },
  {
   "cell_type": "code",
   "execution_count": 11,
   "metadata": {
    "collapsed": false
   },
   "outputs": [],
   "source": [
    "for i, c in enumerate(centers):\n",
    "    ax2.scatter(c[0], c[1], marker='$%d$' % i, alpha=1, s=50)\n",
    "\n",
    "    ax2.set_title(\"The visualization of the clustered data.\")\n",
    "    ax2.set_xlabel(\"Feature space for the 1st feature\")\n",
    "    ax2.set_ylabel(\"Feature space for the 2nd feature\")\n",
    "\n",
    "    plt.suptitle((\"Silhouette analysis for KMeans clustering on sample data \"\n",
    "                  \"with n_clusters = %d\" % n_clusters),\n",
    "                 fontsize=14, fontweight='bold')\n",
    "\n",
    "    plt.show()"
   ]
  }
 ],
 "metadata": {
  "kernelspec": {
   "display_name": "Python 2",
   "language": "python",
   "name": "python2"
  },
  "language_info": {
   "codemirror_mode": {
    "name": "ipython",
    "version": 2
   },
   "file_extension": ".py",
   "mimetype": "text/x-python",
   "name": "python",
   "nbconvert_exporter": "python",
   "pygments_lexer": "ipython2",
   "version": "2.7.7"
  }
 },
 "nbformat": 4,
 "nbformat_minor": 0
}

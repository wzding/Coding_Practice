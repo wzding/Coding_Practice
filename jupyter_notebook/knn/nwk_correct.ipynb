{
 "cells": [
  {
   "cell_type": "code",
   "execution_count": 156,
   "metadata": {
    "collapsed": false
   },
   "outputs": [],
   "source": [
    "import pandas as pd\n",
    "import numpy as np\n",
    "from scipy.stats import norm\n",
    "from sklearn.metrics.pairwise import euclidean_distances\n",
    "from scipy.spatial import distance\n",
    "import operator\n",
    "%matplotlib inline\n",
    "import matplotlib.pyplot as plt"
   ]
  },
  {
   "cell_type": "code",
   "execution_count": 2,
   "metadata": {
    "collapsed": true
   },
   "outputs": [],
   "source": [
    "df = pd.read_csv('berkhousing.csv')"
   ]
  },
  {
   "cell_type": "code",
   "execution_count": 18,
   "metadata": {
    "collapsed": false
   },
   "outputs": [],
   "source": [
    "df = df.dropna()"
   ]
  },
  {
   "cell_type": "code",
   "execution_count": 148,
   "metadata": {
    "collapsed": false
   },
   "outputs": [
    {
     "data": {
      "text/plain": [
       "69"
      ]
     },
     "execution_count": 148,
     "metadata": {},
     "output_type": "execute_result"
    }
   ],
   "source": [
    "len(df)"
   ]
  },
  {
   "cell_type": "code",
   "execution_count": 35,
   "metadata": {
    "collapsed": true
   },
   "outputs": [],
   "source": [
    "x = np.array(df.sqft)\n",
    "y = np.array(df.price)"
   ]
  },
  {
   "cell_type": "code",
   "execution_count": 93,
   "metadata": {
    "collapsed": true
   },
   "outputs": [],
   "source": [
    "def get_distance(a,b):\n",
    "    return np.sqrt(np.sum(np.square(np.subtract(a, b))))"
   ]
  },
  {
   "cell_type": "code",
   "execution_count": 94,
   "metadata": {
    "collapsed": false
   },
   "outputs": [],
   "source": [
    "l = len(x)\n",
    "dis = [[0 for i in range(l)] for j in range(l)] \n",
    "\n",
    "for i in range(l):\n",
    "    for j in range(l):\n",
    "        dis[i][j] =  get_distance(x[i],x[j]) "
   ]
  },
  {
   "cell_type": "code",
   "execution_count": 119,
   "metadata": {
    "collapsed": true
   },
   "outputs": [],
   "source": [
    "def nwkernel(x,y,xseq,h):\n",
    "    y_test = np.zeros(len(x))\n",
    "    \n",
    "    l = len(x)\n",
    "    dis = [[0 for i in range(l)] for j in range(l)] \n",
    "    kernel = dis\n",
    "    \n",
    "    for i in range(l):\n",
    "        for j in range(l):\n",
    "            dis[i][j] =  get_distance(x[i],x[j]) \n",
    "        kernel[i] = map(lambda t: norm.pdf(t/float(h)), dis[i])\n",
    "    \n",
    "    for a in range(l):\n",
    "        sum_y = 0\n",
    "        for b in range(l):\n",
    "            sum_y += kernel[a][b] / float(sum(kernel[a])) * y[b]\n",
    "        y_test[a] = sum_y       \n",
    "    return y_test"
   ]
  },
  {
   "cell_type": "code",
   "execution_count": 152,
   "metadata": {
    "collapsed": true
   },
   "outputs": [],
   "source": [
    "def nwk_risk(x,y,h):\n",
    "    y_test = np.zeros(len(x))\n",
    "    \n",
    "    l = len(x)\n",
    "    dis = [[0 for i in range(l)] for j in range(l)] \n",
    "    kernel = dis\n",
    "    \n",
    "    for i in range(l):\n",
    "        for j in range(l):\n",
    "            dis[i][j] =  get_distance(x[i],x[j]) \n",
    "        kernel[i] = map(lambda t: norm.pdf(t/float(h)), dis[i])\n",
    "    \n",
    "    for a in range(l):\n",
    "        sum_y = 0\n",
    "        for b in range(l):\n",
    "            sum_y += kernel[a][b] / float(sum(kernel[a])) * y[b]\n",
    "        y_test[a] = sum_y       \n",
    "    \n",
    "    normi = map(np.square, map(operator.sub , y ,y_test ) )\n",
    "    denormi = map(lambda x : pow(1 - norm.pdf(0) / float(sum(x)) , 2), kernel)\n",
    "    return sum(map(operator.div,normi,denormi))"
   ]
  },
  {
   "cell_type": "code",
   "execution_count": 160,
   "metadata": {
    "collapsed": true
   },
   "outputs": [],
   "source": [
    "risk = []\n",
    "h_list = []\n",
    "for h in range(100, 130, 1):\n",
    "    h_list.append(h)\n",
    "    risk.append(nwk_risk(x,y,h))"
   ]
  },
  {
   "cell_type": "code",
   "execution_count": 163,
   "metadata": {
    "collapsed": false
   },
   "outputs": [
    {
     "data": {
      "text/plain": [
       "[<matplotlib.lines.Line2D at 0xdb2b6a0>]"
      ]
     },
     "execution_count": 163,
     "metadata": {},
     "output_type": "execute_result"
    },
    {
     "data": {
      "image/png": "[encoded data removed]",
      "text/plain": [
       "<matplotlib.figure.Figure at 0xd42c518>"
      ]
     },
     "metadata": {},
     "output_type": "display_data"
    }
   ],
   "source": [
    "plt.plot(h_list, risk)"
   ]
  },
  {
   "cell_type": "code",
   "execution_count": 153,
   "metadata": {
    "collapsed": false
   },
   "outputs": [],
   "source": [
    "risk = nwk_risk(x,y,124.7581)"
   ]
  },
  {
   "cell_type": "code",
   "execution_count": 154,
   "metadata": {
    "collapsed": false
   },
   "outputs": [
    {
     "data": {
      "text/plain": [
       "893382.75955439417"
      ]
     },
     "execution_count": 154,
     "metadata": {},
     "output_type": "execute_result"
    }
   ],
   "source": [
    "risk"
   ]
  }
 ],
 "metadata": {
  "kernelspec": {
   "display_name": "Python 2",
   "language": "python",
   "name": "python2"
  },
  "language_info": {
   "codemirror_mode": {
    "name": "ipython",
    "version": 2
   },
   "file_extension": ".py",
   "mimetype": "text/x-python",
   "name": "python",
   "nbconvert_exporter": "python",
   "pygments_lexer": "ipython2",
   "version": "2.7.13"
  }
 },
 "nbformat": 4,
 "nbformat_minor": 2
}

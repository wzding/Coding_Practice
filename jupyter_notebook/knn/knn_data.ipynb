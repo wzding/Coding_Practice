{
 "cells": [
  {
   "cell_type": "code",
   "execution_count": 2,
   "metadata": {
    "collapsed": false
   },
   "outputs": [],
   "source": [
    "import pandas as pd\n",
    "import numpy as np\n",
    "from datetime import datetime\n",
    "from math import radians, cos, sin, asin, sqrt\n",
    "%matplotlib inline\n",
    "import matplotlib.pyplot as plt\n",
    "from knn_regression import KNN \n",
    "from nwk import NWK\n",
    "from sklearn.cross_validation import train_test_split"
   ]
  },
  {
   "cell_type": "markdown",
   "metadata": {},
   "source": [
    "### Load data"
   ]
  },
  {
   "cell_type": "code",
   "execution_count": 3,
   "metadata": {
    "collapsed": false
   },
   "outputs": [],
   "source": [
    "df0 = pd.read_csv(\"data.csv\")"
   ]
  },
  {
   "cell_type": "code",
   "execution_count": 4,
   "metadata": {
    "collapsed": false
   },
   "outputs": [
    {
     "data": {
      "text/plain": [
       "Index([u'latitude', u'longitude', u'close_date', u'close_price'], dtype='object')"
      ]
     },
     "execution_count": 4,
     "metadata": {},
     "output_type": "execute_result"
    }
   ],
   "source": [
    "df0.columns"
   ]
  },
  {
   "cell_type": "code",
   "execution_count": 5,
   "metadata": {
    "collapsed": false
   },
   "outputs": [
    {
     "data": {
      "text/html": [
       "<div>\n",
       "<table border=\"1\" class=\"dataframe\">\n",
       "  <thead>\n",
       "    <tr style=\"text-align: right;\">\n",
       "      <th></th>\n",
       "      <th>latitude</th>\n",
       "      <th>longitude</th>\n",
       "      <th>close_price</th>\n",
       "    </tr>\n",
       "  </thead>\n",
       "  <tbody>\n",
       "    <tr>\n",
       "      <th>count</th>\n",
       "      <td>88042.000000</td>\n",
       "      <td>88042.000000</td>\n",
       "      <td>8.804200e+04</td>\n",
       "    </tr>\n",
       "    <tr>\n",
       "      <th>mean</th>\n",
       "      <td>34.559745</td>\n",
       "      <td>-93.470194</td>\n",
       "      <td>2.663684e+06</td>\n",
       "    </tr>\n",
       "    <tr>\n",
       "      <th>std</th>\n",
       "      <td>13.983900</td>\n",
       "      <td>31.194818</td>\n",
       "      <td>1.543381e+07</td>\n",
       "    </tr>\n",
       "    <tr>\n",
       "      <th>min</th>\n",
       "      <td>-89.938989</td>\n",
       "      <td>-179.891580</td>\n",
       "      <td>-9.995300e+04</td>\n",
       "    </tr>\n",
       "    <tr>\n",
       "      <th>25%</th>\n",
       "      <td>36.200312</td>\n",
       "      <td>-98.481499</td>\n",
       "      <td>1.233064e+05</td>\n",
       "    </tr>\n",
       "    <tr>\n",
       "      <th>50%</th>\n",
       "      <td>36.385215</td>\n",
       "      <td>-98.165490</td>\n",
       "      <td>1.816143e+05</td>\n",
       "    </tr>\n",
       "    <tr>\n",
       "      <th>75%</th>\n",
       "      <td>36.544719</td>\n",
       "      <td>-97.967260</td>\n",
       "      <td>2.841568e+05</td>\n",
       "    </tr>\n",
       "    <tr>\n",
       "      <th>max</th>\n",
       "      <td>89.984841</td>\n",
       "      <td>179.969440</td>\n",
       "      <td>1.009998e+08</td>\n",
       "    </tr>\n",
       "  </tbody>\n",
       "</table>\n",
       "</div>"
      ],
      "text/plain": [
       "           latitude     longitude   close_price\n",
       "count  88042.000000  88042.000000  8.804200e+04\n",
       "mean      34.559745    -93.470194  2.663684e+06\n",
       "std       13.983900     31.194818  1.543381e+07\n",
       "min      -89.938989   -179.891580 -9.995300e+04\n",
       "25%       36.200312    -98.481499  1.233064e+05\n",
       "50%       36.385215    -98.165490  1.816143e+05\n",
       "75%       36.544719    -97.967260  2.841568e+05\n",
       "max       89.984841    179.969440  1.009998e+08"
      ]
     },
     "execution_count": 5,
     "metadata": {},
     "output_type": "execute_result"
    }
   ],
   "source": [
    "df0.describe()"
   ]
  },
  {
   "cell_type": "markdown",
   "metadata": {},
   "source": [
    "Note that there are negative values in the column \"close_price\". To correct this error, we convert all values in the column to its absolute values."
   ]
  },
  {
   "cell_type": "code",
   "execution_count": 6,
   "metadata": {
    "collapsed": true
   },
   "outputs": [],
   "source": [
    "df0.close_price = df0.close_price.apply(lambda x: abs(x))"
   ]
  },
  {
   "cell_type": "markdown",
   "metadata": {
    "collapsed": false
   },
   "source": [
    "Let's explore whether there're any unique patterns of hour location."
   ]
  },
  {
   "cell_type": "code",
   "execution_count": 72,
   "metadata": {
    "collapsed": false
   },
   "outputs": [
    {
     "data": {
      "text/plain": [
       "<matplotlib.text.Text at 0x114119e8>"
      ]
     },
     "execution_count": 72,
     "metadata": {},
     "output_type": "execute_result"
    },
    {
     "data": {
      "image/png": "[encoded data removed]",
      "text/plain": [
       "<matplotlib.figure.Figure at 0x133958d0>"
      ]
     },
     "metadata": {},
     "output_type": "display_data"
    }
   ],
   "source": [
    "fig, ax = plt.subplots()\n",
    "df0[['latitude','longitude']].plot(ax=ax, kind='scatter', x='latitude', y='longitude', s = 10,figsize=(8,6))\n",
    "plt.xlabel('latitude', fontsize=12)\n",
    "plt.ylabel('longitude', fontsize=12)\n",
    "plt.title('House Location', fontsize=14)"
   ]
  },
  {
   "cell_type": "markdown",
   "metadata": {},
   "source": [
    "### Model training"
   ]
  },
  {
   "cell_type": "markdown",
   "metadata": {},
   "source": [
    "We used all the data points as training data and sampled 100 data points for the test data."
   ]
  },
  {
   "cell_type": "code",
   "execution_count": 7,
   "metadata": {
    "collapsed": false
   },
   "outputs": [],
   "source": [
    "# create design matrix X and target vector y\n",
    "X_train = np.array(df0.ix[:, 0:3]) \n",
    "y_train = np.array(df0['close_price']) \n",
    "df = df0.sample(100)\n",
    "X_test = np.array(df.ix[:, 0:3]) \n",
    "y_test = np.array(df['close_price']) "
   ]
  },
  {
   "cell_type": "markdown",
   "metadata": {},
   "source": [
    "### Performance of model measured in Median Relative Absolute Error (MRAE)"
   ]
  },
  {
   "cell_type": "code",
   "execution_count": 45,
   "metadata": {
    "collapsed": false
   },
   "outputs": [
    {
     "name": "stdout",
     "output_type": "stream",
     "text": [
      "2 Nan values have been predicted\n",
      "0.234868156186\n",
      "('Training time:', datetime.timedelta(0, 62, 477000))\n"
     ]
    }
   ],
   "source": [
    "knn = KNN(4)\n",
    "t0 = datetime.now()\n",
    "knn.fit(X_train, y_train)\n",
    "# p = knn.predict(X_test)\n",
    "print knn.mrae(X_test,y_test)\n",
    "print (\"Training time:\", (datetime.now() - t0))"
   ]
  },
  {
   "cell_type": "markdown",
   "metadata": {},
   "source": [
    "It takes more than one minute to train all the data. We achieved a low MRAE of this knn model."
   ]
  },
  {
   "cell_type": "markdown",
   "metadata": {},
   "source": [
    "### Determine the optimal k"
   ]
  },
  {
   "cell_type": "markdown",
   "metadata": {},
   "source": [
    "We used cross-validation to choose the optimal k. The optimal k is found by minimizing the MRAE. We finally achieved a MRAE as low as 0.35."
   ]
  },
  {
   "cell_type": "code",
   "execution_count": 8,
   "metadata": {
    "collapsed": true
   },
   "outputs": [],
   "source": [
    "data = df0.sample(1000)\n",
    "X = np.array(data.ix[:, 0:3]) \n",
    "y = np.array(data['close_price']) \n",
    "# split into train and test\n",
    "X_train, X_test, y_train, y_test = train_test_split(X, y, test_size=0.33, random_state=42)"
   ]
  },
  {
   "cell_type": "code",
   "execution_count": 14,
   "metadata": {
    "collapsed": false
   },
   "outputs": [],
   "source": [
    "k_list = []\n",
    "mrae_list = []\n",
    "for k in (1,2,3,4,5,6,7):\n",
    "    knn = KNN(k)\n",
    "    knn.fit(X_train, y_train)\n",
    "    p = knn.predict(X_test)\n",
    "    k_list.append(k)\n",
    "    mrae_list.append(knn.mrae(X_test,y_test))"
   ]
  },
  {
   "cell_type": "code",
   "execution_count": 15,
   "metadata": {
    "collapsed": false
   },
   "outputs": [
    {
     "name": "stdout",
     "output_type": "stream",
     "text": [
      "0.373203668688\n",
      "('Training time:', datetime.timedelta(0, 1, 245000))\n"
     ]
    }
   ],
   "source": [
    "knn = KNN(k_list[mrae_list.index(min(mrae_list))])\n",
    "t0 = datetime.now()\n",
    "knn.fit(X_train, y_train)\n",
    "print knn.mrae(X_test,y_test)\n",
    "print (\"Training time:\", (datetime.now() - t0))"
   ]
  },
  {
   "cell_type": "markdown",
   "metadata": {},
   "source": [
    "### Trends in error"
   ]
  },
  {
   "cell_type": "code",
   "execution_count": 21,
   "metadata": {
    "collapsed": false
   },
   "outputs": [
    {
     "data": {
      "image/png": "[encoded data removed]",
      "text/plain": [
       "<matplotlib.figure.Figure at 0xceb2e80>"
      ]
     },
     "metadata": {},
     "output_type": "display_data"
    }
   ],
   "source": [
    "err = abs(y_test - p)\n",
    "X_test_df = pd.DataFrame(X_test)\n",
    "X_test_df.columns = ['lat','long','datetime']\n",
    "X_test_df['error'] = err\n",
    "X_test_df['datetime'] = X_test_df.datetime.apply(lambda x: datetime.strptime(x,'%Y-%m-%d %H:%M:%S.%f'))\n",
    "X_test_df = X_test_df.sort_values(by = 'datetime')\n",
    "\n",
    "fig, ax = plt.subplots(1,figsize=(8,6))\n",
    "ax.plot(X_test_df.datetime, X_test_df.error )\n",
    "fig.autofmt_xdate()"
   ]
  },
  {
   "cell_type": "code",
   "execution_count": 22,
   "metadata": {
    "collapsed": false
   },
   "outputs": [
    {
     "data": {
      "text/plain": [
       "<matplotlib.axes._subplots.AxesSubplot at 0xe38c390>"
      ]
     },
     "execution_count": 22,
     "metadata": {},
     "output_type": "execute_result"
    },
    {
     "data": {
      "image/png": "[encoded data removed]",
      "text/plain": [
       "<matplotlib.figure.Figure at 0xd047e10>"
      ]
     },
     "metadata": {},
     "output_type": "display_data"
    }
   ],
   "source": [
    "# size = [(i-min(X_test_df.error))/float(max(X_test_df.error)) for i in X_test_df.error]\n",
    "fig, ax = plt.subplots()\n",
    "X_test_df.plot(ax=ax, kind='scatter', x='lat', y='long', s = X_test_df.error/100000 ,figsize=(8,6))\n",
    "# plt.xlabel('Rating', fontsize=12)\n",
    "# plt.ylabel('Length', fontsize=12)\n",
    "# plt.title('Movie Rating vs. Length', fontsize=14)"
   ]
  },
  {
   "cell_type": "code",
   "execution_count": 23,
   "metadata": {
    "collapsed": false
   },
   "outputs": [
    {
     "data": {
      "text/html": [
       "<div>\n",
       "<table border=\"1\" class=\"dataframe\">\n",
       "  <thead>\n",
       "    <tr style=\"text-align: right;\">\n",
       "      <th></th>\n",
       "      <th>lat</th>\n",
       "      <th>long</th>\n",
       "      <th>datetime</th>\n",
       "      <th>error</th>\n",
       "    </tr>\n",
       "  </thead>\n",
       "  <tbody>\n",
       "    <tr>\n",
       "      <th>33</th>\n",
       "      <td>36.6133</td>\n",
       "      <td>-98.0545</td>\n",
       "      <td>2014-02-23 20:00:35.855886</td>\n",
       "      <td>9.980581e+07</td>\n",
       "    </tr>\n",
       "    <tr>\n",
       "      <th>148</th>\n",
       "      <td>36.558</td>\n",
       "      <td>-97.9942</td>\n",
       "      <td>2014-05-06 08:59:53.896686</td>\n",
       "      <td>9.983487e+07</td>\n",
       "    </tr>\n",
       "    <tr>\n",
       "      <th>274</th>\n",
       "      <td>36.1382</td>\n",
       "      <td>-98.2087</td>\n",
       "      <td>2014-07-25 23:07:46.071360</td>\n",
       "      <td>1.006795e+08</td>\n",
       "    </tr>\n",
       "    <tr>\n",
       "      <th>66</th>\n",
       "      <td>35.8333</td>\n",
       "      <td>-98.6898</td>\n",
       "      <td>2014-12-17 22:23:28.147380</td>\n",
       "      <td>1.003009e+08</td>\n",
       "    </tr>\n",
       "    <tr>\n",
       "      <th>271</th>\n",
       "      <td>36.4146</td>\n",
       "      <td>-97.9964</td>\n",
       "      <td>2015-04-12 18:40:20.897554</td>\n",
       "      <td>1.007556e+08</td>\n",
       "    </tr>\n",
       "  </tbody>\n",
       "</table>\n",
       "</div>"
      ],
      "text/plain": [
       "         lat     long                   datetime         error\n",
       "33   36.6133 -98.0545 2014-02-23 20:00:35.855886  9.980581e+07\n",
       "148   36.558 -97.9942 2014-05-06 08:59:53.896686  9.983487e+07\n",
       "274  36.1382 -98.2087 2014-07-25 23:07:46.071360  1.006795e+08\n",
       "66   35.8333 -98.6898 2014-12-17 22:23:28.147380  1.003009e+08\n",
       "271  36.4146 -97.9964 2015-04-12 18:40:20.897554  1.007556e+08"
      ]
     },
     "execution_count": 23,
     "metadata": {},
     "output_type": "execute_result"
    }
   ],
   "source": [
    "X_test_df[X_test_df.error > 90000000]"
   ]
  },
  {
   "cell_type": "markdown",
   "metadata": {},
   "source": [
    "Interestingly, the spatial location of houses with highest prediction error scatter around (36,-97), which is around Oklahoma. "
   ]
  },
  {
   "cell_type": "code",
   "execution_count": 25,
   "metadata": {
    "collapsed": false
   },
   "outputs": [
    {
     "data": {
      "text/html": [
       "<div>\n",
       "<table border=\"1\" class=\"dataframe\">\n",
       "  <thead>\n",
       "    <tr style=\"text-align: right;\">\n",
       "      <th></th>\n",
       "      <th>lat</th>\n",
       "      <th>long</th>\n",
       "      <th>datetime</th>\n",
       "      <th>error</th>\n",
       "    </tr>\n",
       "  </thead>\n",
       "  <tbody>\n",
       "    <tr>\n",
       "      <th>208</th>\n",
       "      <td>36.6417</td>\n",
       "      <td>-98.3541</td>\n",
       "      <td>2014-03-20 04:54:12.774417</td>\n",
       "      <td>1.439877e+07</td>\n",
       "    </tr>\n",
       "    <tr>\n",
       "      <th>80</th>\n",
       "      <td>36.7188</td>\n",
       "      <td>-98.2095</td>\n",
       "      <td>2014-04-07 14:13:39.497958</td>\n",
       "      <td>1.440447e+07</td>\n",
       "    </tr>\n",
       "    <tr>\n",
       "      <th>27</th>\n",
       "      <td>36.0661</td>\n",
       "      <td>-98.6063</td>\n",
       "      <td>2014-04-22 07:34:01.314041</td>\n",
       "      <td>1.436781e+07</td>\n",
       "    </tr>\n",
       "    <tr>\n",
       "      <th>64</th>\n",
       "      <td>36.6678</td>\n",
       "      <td>-98.385</td>\n",
       "      <td>2014-05-01 10:40:32.073724</td>\n",
       "      <td>1.444960e+07</td>\n",
       "    </tr>\n",
       "    <tr>\n",
       "      <th>216</th>\n",
       "      <td>36.1189</td>\n",
       "      <td>-98.6628</td>\n",
       "      <td>2014-05-21 19:44:49.150917</td>\n",
       "      <td>1.437929e+07</td>\n",
       "    </tr>\n",
       "    <tr>\n",
       "      <th>193</th>\n",
       "      <td>36.6567</td>\n",
       "      <td>-98.0576</td>\n",
       "      <td>2014-05-25 05:45:00.658251</td>\n",
       "      <td>1.427507e+07</td>\n",
       "    </tr>\n",
       "    <tr>\n",
       "      <th>130</th>\n",
       "      <td>36.5915</td>\n",
       "      <td>-98.1386</td>\n",
       "      <td>2014-05-25 09:55:35.151603</td>\n",
       "      <td>1.429014e+07</td>\n",
       "    </tr>\n",
       "    <tr>\n",
       "      <th>111</th>\n",
       "      <td>36.1567</td>\n",
       "      <td>-98.607</td>\n",
       "      <td>2014-05-29 01:26:31.069883</td>\n",
       "      <td>1.437435e+07</td>\n",
       "    </tr>\n",
       "    <tr>\n",
       "      <th>165</th>\n",
       "      <td>36.6848</td>\n",
       "      <td>-98.145</td>\n",
       "      <td>2014-05-30 14:12:26.171543</td>\n",
       "      <td>1.414119e+07</td>\n",
       "    </tr>\n",
       "    <tr>\n",
       "      <th>215</th>\n",
       "      <td>36.682</td>\n",
       "      <td>-98.1625</td>\n",
       "      <td>2014-06-03 12:24:38.242906</td>\n",
       "      <td>1.419539e+07</td>\n",
       "    </tr>\n",
       "    <tr>\n",
       "      <th>40</th>\n",
       "      <td>36.5783</td>\n",
       "      <td>-97.9344</td>\n",
       "      <td>2014-06-09 19:43:46.862795</td>\n",
       "      <td>1.433803e+07</td>\n",
       "    </tr>\n",
       "    <tr>\n",
       "      <th>248</th>\n",
       "      <td>36.0211</td>\n",
       "      <td>-98.7387</td>\n",
       "      <td>2014-06-15 05:13:20.782969</td>\n",
       "      <td>1.440978e+07</td>\n",
       "    </tr>\n",
       "    <tr>\n",
       "      <th>238</th>\n",
       "      <td>36.7573</td>\n",
       "      <td>-98.389</td>\n",
       "      <td>2014-06-22 10:46:24.594492</td>\n",
       "      <td>1.443125e+07</td>\n",
       "    </tr>\n",
       "    <tr>\n",
       "      <th>279</th>\n",
       "      <td>36.6164</td>\n",
       "      <td>-97.8932</td>\n",
       "      <td>2014-06-23 18:23:32.990864</td>\n",
       "      <td>1.414344e+07</td>\n",
       "    </tr>\n",
       "    <tr>\n",
       "      <th>197</th>\n",
       "      <td>36.6613</td>\n",
       "      <td>-97.987</td>\n",
       "      <td>2014-06-26 12:04:58.053415</td>\n",
       "      <td>1.430352e+07</td>\n",
       "    </tr>\n",
       "    <tr>\n",
       "      <th>264</th>\n",
       "      <td>-86.4215</td>\n",
       "      <td>34.3098</td>\n",
       "      <td>2014-07-12 18:26:15.288713</td>\n",
       "      <td>1.413582e+07</td>\n",
       "    </tr>\n",
       "    <tr>\n",
       "      <th>152</th>\n",
       "      <td>36.5933</td>\n",
       "      <td>-98.1486</td>\n",
       "      <td>2014-07-15 01:14:14.640038</td>\n",
       "      <td>1.444440e+07</td>\n",
       "    </tr>\n",
       "    <tr>\n",
       "      <th>89</th>\n",
       "      <td>36.6118</td>\n",
       "      <td>-98.1196</td>\n",
       "      <td>2014-07-27 23:23:05.408973</td>\n",
       "      <td>1.455013e+07</td>\n",
       "    </tr>\n",
       "    <tr>\n",
       "      <th>268</th>\n",
       "      <td>35.8649</td>\n",
       "      <td>-98.6679</td>\n",
       "      <td>2014-07-30 03:14:39.510920</td>\n",
       "      <td>1.445879e+07</td>\n",
       "    </tr>\n",
       "    <tr>\n",
       "      <th>51</th>\n",
       "      <td>36.6889</td>\n",
       "      <td>-97.9645</td>\n",
       "      <td>2014-07-31 17:22:23.924463</td>\n",
       "      <td>1.422646e+07</td>\n",
       "    </tr>\n",
       "    <tr>\n",
       "      <th>141</th>\n",
       "      <td>-62.922</td>\n",
       "      <td>52.8874</td>\n",
       "      <td>2014-08-03 14:39:09.854084</td>\n",
       "      <td>1.430360e+07</td>\n",
       "    </tr>\n",
       "    <tr>\n",
       "      <th>219</th>\n",
       "      <td>36.2335</td>\n",
       "      <td>-97.6789</td>\n",
       "      <td>2014-08-04 10:54:07.977684</td>\n",
       "      <td>1.429214e+07</td>\n",
       "    </tr>\n",
       "    <tr>\n",
       "      <th>65</th>\n",
       "      <td>36.6365</td>\n",
       "      <td>-98.0189</td>\n",
       "      <td>2014-08-05 03:38:57.347693</td>\n",
       "      <td>1.430897e+07</td>\n",
       "    </tr>\n",
       "    <tr>\n",
       "      <th>82</th>\n",
       "      <td>36.7066</td>\n",
       "      <td>-98.1555</td>\n",
       "      <td>2014-08-16 18:16:49.875568</td>\n",
       "      <td>1.427795e+07</td>\n",
       "    </tr>\n",
       "    <tr>\n",
       "      <th>322</th>\n",
       "      <td>36.6657</td>\n",
       "      <td>-97.9751</td>\n",
       "      <td>2014-08-20 10:36:25.114185</td>\n",
       "      <td>1.437905e+07</td>\n",
       "    </tr>\n",
       "    <tr>\n",
       "      <th>211</th>\n",
       "      <td>36.6618</td>\n",
       "      <td>-98.3685</td>\n",
       "      <td>2014-08-21 09:00:06.563954</td>\n",
       "      <td>1.453378e+07</td>\n",
       "    </tr>\n",
       "    <tr>\n",
       "      <th>231</th>\n",
       "      <td>36.4185</td>\n",
       "      <td>-98.2515</td>\n",
       "      <td>2014-08-25 01:35:00.527565</td>\n",
       "      <td>1.443400e+07</td>\n",
       "    </tr>\n",
       "    <tr>\n",
       "      <th>119</th>\n",
       "      <td>36.6776</td>\n",
       "      <td>-97.964</td>\n",
       "      <td>2014-08-31 09:32:15.045240</td>\n",
       "      <td>1.431423e+07</td>\n",
       "    </tr>\n",
       "    <tr>\n",
       "      <th>88</th>\n",
       "      <td>36.6679</td>\n",
       "      <td>-98.1474</td>\n",
       "      <td>2014-08-31 17:53:33.193201</td>\n",
       "      <td>1.433028e+07</td>\n",
       "    </tr>\n",
       "    <tr>\n",
       "      <th>249</th>\n",
       "      <td>36.6576</td>\n",
       "      <td>-97.943</td>\n",
       "      <td>2014-09-04 09:37:16.347761</td>\n",
       "      <td>1.435988e+07</td>\n",
       "    </tr>\n",
       "    <tr>\n",
       "      <th>92</th>\n",
       "      <td>36.5482</td>\n",
       "      <td>-97.9905</td>\n",
       "      <td>2014-09-07 03:05:22.917235</td>\n",
       "      <td>1.437453e+07</td>\n",
       "    </tr>\n",
       "    <tr>\n",
       "      <th>327</th>\n",
       "      <td>36.7028</td>\n",
       "      <td>-98.1548</td>\n",
       "      <td>2014-09-13 04:11:08.866375</td>\n",
       "      <td>1.430932e+07</td>\n",
       "    </tr>\n",
       "    <tr>\n",
       "      <th>328</th>\n",
       "      <td>36.1228</td>\n",
       "      <td>-98.3841</td>\n",
       "      <td>2014-09-16 13:23:02.677633</td>\n",
       "      <td>1.436620e+07</td>\n",
       "    </tr>\n",
       "    <tr>\n",
       "      <th>103</th>\n",
       "      <td>36.6596</td>\n",
       "      <td>-98.352</td>\n",
       "      <td>2014-09-25 17:02:49.719644</td>\n",
       "      <td>1.445310e+07</td>\n",
       "    </tr>\n",
       "    <tr>\n",
       "      <th>104</th>\n",
       "      <td>36.3536</td>\n",
       "      <td>-98.2741</td>\n",
       "      <td>2014-09-30 18:22:34.966659</td>\n",
       "      <td>1.438568e+07</td>\n",
       "    </tr>\n",
       "    <tr>\n",
       "      <th>321</th>\n",
       "      <td>36.0794</td>\n",
       "      <td>-98.3432</td>\n",
       "      <td>2014-10-01 14:03:29.817767</td>\n",
       "      <td>1.433660e+07</td>\n",
       "    </tr>\n",
       "    <tr>\n",
       "      <th>315</th>\n",
       "      <td>36.325</td>\n",
       "      <td>-98.2481</td>\n",
       "      <td>2014-10-13 04:14:28.751974</td>\n",
       "      <td>1.437747e+07</td>\n",
       "    </tr>\n",
       "    <tr>\n",
       "      <th>71</th>\n",
       "      <td>36.5419</td>\n",
       "      <td>-98.0067</td>\n",
       "      <td>2014-10-13 08:00:45.606663</td>\n",
       "      <td>1.431334e+07</td>\n",
       "    </tr>\n",
       "    <tr>\n",
       "      <th>13</th>\n",
       "      <td>36.033</td>\n",
       "      <td>-98.5655</td>\n",
       "      <td>2014-10-15 14:18:37.482661</td>\n",
       "      <td>1.424475e+07</td>\n",
       "    </tr>\n",
       "    <tr>\n",
       "      <th>283</th>\n",
       "      <td>36.1613</td>\n",
       "      <td>-98.3307</td>\n",
       "      <td>2014-10-16 23:02:45.561574</td>\n",
       "      <td>1.437541e+07</td>\n",
       "    </tr>\n",
       "    <tr>\n",
       "      <th>8</th>\n",
       "      <td>36.2662</td>\n",
       "      <td>-97.6873</td>\n",
       "      <td>2014-10-23 22:15:48.822113</td>\n",
       "      <td>1.438575e+07</td>\n",
       "    </tr>\n",
       "    <tr>\n",
       "      <th>94</th>\n",
       "      <td>35.9893</td>\n",
       "      <td>-98.6335</td>\n",
       "      <td>2014-10-24 23:37:54.577860</td>\n",
       "      <td>1.425877e+07</td>\n",
       "    </tr>\n",
       "    <tr>\n",
       "      <th>285</th>\n",
       "      <td>37.2589</td>\n",
       "      <td>-97.8196</td>\n",
       "      <td>2014-11-07 04:09:47.944903</td>\n",
       "      <td>1.444677e+07</td>\n",
       "    </tr>\n",
       "    <tr>\n",
       "      <th>4</th>\n",
       "      <td>-13.8559</td>\n",
       "      <td>154.319</td>\n",
       "      <td>2014-11-09 22:29:31.536272</td>\n",
       "      <td>1.422411e+07</td>\n",
       "    </tr>\n",
       "    <tr>\n",
       "      <th>226</th>\n",
       "      <td>36.0934</td>\n",
       "      <td>-98.3089</td>\n",
       "      <td>2014-11-11 12:32:57.079591</td>\n",
       "      <td>1.432213e+07</td>\n",
       "    </tr>\n",
       "    <tr>\n",
       "      <th>270</th>\n",
       "      <td>36.3627</td>\n",
       "      <td>-98.2426</td>\n",
       "      <td>2014-11-18 16:51:30.613936</td>\n",
       "      <td>1.418964e+07</td>\n",
       "    </tr>\n",
       "    <tr>\n",
       "      <th>109</th>\n",
       "      <td>36.7377</td>\n",
       "      <td>-98.1251</td>\n",
       "      <td>2014-12-08 03:52:12.410268</td>\n",
       "      <td>1.426193e+07</td>\n",
       "    </tr>\n",
       "    <tr>\n",
       "      <th>102</th>\n",
       "      <td>35.9892</td>\n",
       "      <td>-98.6335</td>\n",
       "      <td>2014-12-09 08:01:34.213453</td>\n",
       "      <td>1.429470e+07</td>\n",
       "    </tr>\n",
       "    <tr>\n",
       "      <th>96</th>\n",
       "      <td>60.9935</td>\n",
       "      <td>153.038</td>\n",
       "      <td>2014-12-16 13:26:02.652126</td>\n",
       "      <td>1.428604e+07</td>\n",
       "    </tr>\n",
       "    <tr>\n",
       "      <th>291</th>\n",
       "      <td>36.427</td>\n",
       "      <td>-98.2405</td>\n",
       "      <td>2014-12-25 19:10:18.844210</td>\n",
       "      <td>1.447731e+07</td>\n",
       "    </tr>\n",
       "    <tr>\n",
       "      <th>171</th>\n",
       "      <td>36.6691</td>\n",
       "      <td>-97.9687</td>\n",
       "      <td>2015-01-23 23:42:58.440652</td>\n",
       "      <td>1.431119e+07</td>\n",
       "    </tr>\n",
       "    <tr>\n",
       "      <th>23</th>\n",
       "      <td>36.6705</td>\n",
       "      <td>-98.3041</td>\n",
       "      <td>2015-02-15 04:04:20.571197</td>\n",
       "      <td>1.449041e+07</td>\n",
       "    </tr>\n",
       "    <tr>\n",
       "      <th>221</th>\n",
       "      <td>30.0695</td>\n",
       "      <td>125.121</td>\n",
       "      <td>2015-02-17 17:10:50.324440</td>\n",
       "      <td>1.447506e+07</td>\n",
       "    </tr>\n",
       "    <tr>\n",
       "      <th>61</th>\n",
       "      <td>37.317</td>\n",
       "      <td>-97.9939</td>\n",
       "      <td>2015-02-22 05:33:51.271035</td>\n",
       "      <td>1.427496e+07</td>\n",
       "    </tr>\n",
       "    <tr>\n",
       "      <th>125</th>\n",
       "      <td>36.3627</td>\n",
       "      <td>-98.2441</td>\n",
       "      <td>2015-08-14 17:16:22.347362</td>\n",
       "      <td>1.400943e+07</td>\n",
       "    </tr>\n",
       "  </tbody>\n",
       "</table>\n",
       "</div>"
      ],
      "text/plain": [
       "         lat     long                   datetime         error\n",
       "208  36.6417 -98.3541 2014-03-20 04:54:12.774417  1.439877e+07\n",
       "80   36.7188 -98.2095 2014-04-07 14:13:39.497958  1.440447e+07\n",
       "27   36.0661 -98.6063 2014-04-22 07:34:01.314041  1.436781e+07\n",
       "64   36.6678  -98.385 2014-05-01 10:40:32.073724  1.444960e+07\n",
       "216  36.1189 -98.6628 2014-05-21 19:44:49.150917  1.437929e+07\n",
       "193  36.6567 -98.0576 2014-05-25 05:45:00.658251  1.427507e+07\n",
       "130  36.5915 -98.1386 2014-05-25 09:55:35.151603  1.429014e+07\n",
       "111  36.1567  -98.607 2014-05-29 01:26:31.069883  1.437435e+07\n",
       "165  36.6848  -98.145 2014-05-30 14:12:26.171543  1.414119e+07\n",
       "215   36.682 -98.1625 2014-06-03 12:24:38.242906  1.419539e+07\n",
       "40   36.5783 -97.9344 2014-06-09 19:43:46.862795  1.433803e+07\n",
       "248  36.0211 -98.7387 2014-06-15 05:13:20.782969  1.440978e+07\n",
       "238  36.7573  -98.389 2014-06-22 10:46:24.594492  1.443125e+07\n",
       "279  36.6164 -97.8932 2014-06-23 18:23:32.990864  1.414344e+07\n",
       "197  36.6613  -97.987 2014-06-26 12:04:58.053415  1.430352e+07\n",
       "264 -86.4215  34.3098 2014-07-12 18:26:15.288713  1.413582e+07\n",
       "152  36.5933 -98.1486 2014-07-15 01:14:14.640038  1.444440e+07\n",
       "89   36.6118 -98.1196 2014-07-27 23:23:05.408973  1.455013e+07\n",
       "268  35.8649 -98.6679 2014-07-30 03:14:39.510920  1.445879e+07\n",
       "51   36.6889 -97.9645 2014-07-31 17:22:23.924463  1.422646e+07\n",
       "141  -62.922  52.8874 2014-08-03 14:39:09.854084  1.430360e+07\n",
       "219  36.2335 -97.6789 2014-08-04 10:54:07.977684  1.429214e+07\n",
       "65   36.6365 -98.0189 2014-08-05 03:38:57.347693  1.430897e+07\n",
       "82   36.7066 -98.1555 2014-08-16 18:16:49.875568  1.427795e+07\n",
       "322  36.6657 -97.9751 2014-08-20 10:36:25.114185  1.437905e+07\n",
       "211  36.6618 -98.3685 2014-08-21 09:00:06.563954  1.453378e+07\n",
       "231  36.4185 -98.2515 2014-08-25 01:35:00.527565  1.443400e+07\n",
       "119  36.6776  -97.964 2014-08-31 09:32:15.045240  1.431423e+07\n",
       "88   36.6679 -98.1474 2014-08-31 17:53:33.193201  1.433028e+07\n",
       "249  36.6576  -97.943 2014-09-04 09:37:16.347761  1.435988e+07\n",
       "92   36.5482 -97.9905 2014-09-07 03:05:22.917235  1.437453e+07\n",
       "327  36.7028 -98.1548 2014-09-13 04:11:08.866375  1.430932e+07\n",
       "328  36.1228 -98.3841 2014-09-16 13:23:02.677633  1.436620e+07\n",
       "103  36.6596  -98.352 2014-09-25 17:02:49.719644  1.445310e+07\n",
       "104  36.3536 -98.2741 2014-09-30 18:22:34.966659  1.438568e+07\n",
       "321  36.0794 -98.3432 2014-10-01 14:03:29.817767  1.433660e+07\n",
       "315   36.325 -98.2481 2014-10-13 04:14:28.751974  1.437747e+07\n",
       "71   36.5419 -98.0067 2014-10-13 08:00:45.606663  1.431334e+07\n",
       "13    36.033 -98.5655 2014-10-15 14:18:37.482661  1.424475e+07\n",
       "283  36.1613 -98.3307 2014-10-16 23:02:45.561574  1.437541e+07\n",
       "8    36.2662 -97.6873 2014-10-23 22:15:48.822113  1.438575e+07\n",
       "94   35.9893 -98.6335 2014-10-24 23:37:54.577860  1.425877e+07\n",
       "285  37.2589 -97.8196 2014-11-07 04:09:47.944903  1.444677e+07\n",
       "4   -13.8559  154.319 2014-11-09 22:29:31.536272  1.422411e+07\n",
       "226  36.0934 -98.3089 2014-11-11 12:32:57.079591  1.432213e+07\n",
       "270  36.3627 -98.2426 2014-11-18 16:51:30.613936  1.418964e+07\n",
       "109  36.7377 -98.1251 2014-12-08 03:52:12.410268  1.426193e+07\n",
       "102  35.9892 -98.6335 2014-12-09 08:01:34.213453  1.429470e+07\n",
       "96   60.9935  153.038 2014-12-16 13:26:02.652126  1.428604e+07\n",
       "291   36.427 -98.2405 2014-12-25 19:10:18.844210  1.447731e+07\n",
       "171  36.6691 -97.9687 2015-01-23 23:42:58.440652  1.431119e+07\n",
       "23   36.6705 -98.3041 2015-02-15 04:04:20.571197  1.449041e+07\n",
       "221  30.0695  125.121 2015-02-17 17:10:50.324440  1.447506e+07\n",
       "61    37.317 -97.9939 2015-02-22 05:33:51.271035  1.427496e+07\n",
       "125  36.3627 -98.2441 2015-08-14 17:16:22.347362  1.400943e+07"
      ]
     },
     "execution_count": 25,
     "metadata": {},
     "output_type": "execute_result"
    }
   ],
   "source": [
    "X_test_df[(X_test_df.error > 14000000) &(X_test_df.error < 20000000)]"
   ]
  },
  {
   "cell_type": "markdown",
   "metadata": {},
   "source": [
    "A number of high predictive error occurs at locations around (36,-98) at different times. Both highest prediction errors and relative high prediction erros scatter around north Oklahoma."
   ]
  },
  {
   "cell_type": "markdown",
   "metadata": {
    "collapsed": true
   },
   "source": [
    "### Improvement in model"
   ]
  },
  {
   "cell_type": "markdown",
   "metadata": {},
   "source": [
    "We could also give each house price in the data set a weight depending on whether it is in the neighbourd rather than taking the average to get the price. Here, the Nadaraya–Watson kernel regression model serves as a comparision to the knn model, whereas the Kernal method puts weights on all prices in the data set according to the kernel function. Similarly, the optimal bandwidth is found by minimizing the estimated cross-validation risk as in the function. We finally achieved a MRAE as low as 0.35, which is lower than the one using knn model (0.373203668688). However, this model generates more nan values and takes longer time than the knn model."
   ]
  },
  {
   "cell_type": "code",
   "execution_count": 9,
   "metadata": {
    "collapsed": false
   },
   "outputs": [
    {
     "name": "stdout",
     "output_type": "stream",
     "text": [
      "330\n"
     ]
    },
    {
     "name": "stderr",
     "output_type": "stream",
     "text": [
      "nwk.py:72: RuntimeWarning: invalid value encountered in double_scalars\n",
      "  sum_y += kernel[ll] / float(sum(kernel)) * self.y_train[distances[ll][1]]\n"
     ]
    },
    {
     "name": "stdout",
     "output_type": "stream",
     "text": [
      "16 Nan values have been predicted\n",
      "0.440484366185\n",
      "('Training time:', datetime.timedelta(0, 16, 314000))\n"
     ]
    }
   ],
   "source": [
    "print len(X_test)\n",
    "nwk = NWK(0.01)\n",
    "t0 = datetime.now()\n",
    "nwk.fit(X_train, y_train)\n",
    "print nwk.mrae(X_test,y_test)\n",
    "print (\"Training time:\", (datetime.now() - t0))"
   ]
  },
  {
   "cell_type": "code",
   "execution_count": 16,
   "metadata": {
    "collapsed": false
   },
   "outputs": [
    {
     "name": "stdout",
     "output_type": "stream",
     "text": [
      "105 Nan values have been predicted\n",
      "54 Nan values have been predicted\n",
      "40 Nan values have been predicted\n",
      "32 Nan values have been predicted\n",
      "26 Nan values have been predicted\n",
      "23 Nan values have been predicted\n",
      "20 Nan values have been predicted\n",
      "20 Nan values have been predicted\n",
      "17 Nan values have been predicted\n",
      "16 Nan values have been predicted\n"
     ]
    }
   ],
   "source": [
    "# determine the optimal h\n",
    "h_list = []\n",
    "mrae_list = []\n",
    "for h in np.linspace(start=0.001, stop=0.01, num=10):\n",
    "    nwk = NWK(h)\n",
    "    nwk.fit(X_train, y_train)\n",
    "    h_list.append(h)\n",
    "    mrae_list.append(nwk.mrae(X_test,y_test))"
   ]
  },
  {
   "cell_type": "code",
   "execution_count": 17,
   "metadata": {
    "collapsed": false
   },
   "outputs": [
    {
     "data": {
      "text/plain": [
       "[0.3577765965349689,\n",
       " 0.40399594690480511,\n",
       " 0.40262722906282894,\n",
       " 0.40602218506071608,\n",
       " 0.41034195347299296,\n",
       " 0.41467334655623794,\n",
       " 0.42734445218449146,\n",
       " 0.43301928276456014,\n",
       " 0.43118444590661087,\n",
       " 0.44048436618510578]"
      ]
     },
     "execution_count": 17,
     "metadata": {},
     "output_type": "execute_result"
    }
   ],
   "source": [
    "mrae_list"
   ]
  },
  {
   "cell_type": "code",
   "execution_count": 18,
   "metadata": {
    "collapsed": false
   },
   "outputs": [
    {
     "data": {
      "text/plain": [
       "[<matplotlib.lines.Line2D at 0xd94c390>]"
      ]
     },
     "execution_count": 18,
     "metadata": {},
     "output_type": "execute_result"
    },
    {
     "data": {
      "image/png": "[encoded data removed]",
      "text/plain": [
       "<matplotlib.figure.Figure at 0xd6d2320>"
      ]
     },
     "metadata": {},
     "output_type": "display_data"
    }
   ],
   "source": [
    "plt.plot(h_list, mrae_list)"
   ]
  },
  {
   "cell_type": "code",
   "execution_count": 19,
   "metadata": {
    "collapsed": false
   },
   "outputs": [
    {
     "name": "stdout",
     "output_type": "stream",
     "text": [
      "330\n",
      "105 Nan values have been predicted\n",
      "0.357776596535\n",
      "('Training time:', datetime.timedelta(0, 15, 974000))\n"
     ]
    }
   ],
   "source": [
    "print len(X_test)\n",
    "nwk = NWK(h_list[mrae_list.index(min(mrae_list))])\n",
    "t0 = datetime.now()\n",
    "nwk.fit(X_train, y_train)\n",
    "print nwk.mrae(X_test,y_test)\n",
    "print (\"Training time:\", (datetime.now() - t0))"
   ]
  },
  {
   "cell_type": "markdown",
   "metadata": {
    "collapsed": true
   },
   "source": [
    "### Productionize in model"
   ]
  },
  {
   "cell_type": "markdown",
   "metadata": {},
   "source": [
    "In order to production both models, we added instructions and documentations to our model.\n",
    "* adding documentation to Python code to clearly state the functions of each part of the model\n",
    "* adding test cases in the model, such as empty input, erroruous format of input data, etc.\n",
    "* inform the users how many nan values were generated."
   ]
  },
  {
   "cell_type": "code",
   "execution_count": 8,
   "metadata": {
    "collapsed": false
   },
   "outputs": [
    {
     "ename": "SystemExit",
     "evalue": "K must be a positive integer",
     "output_type": "error",
     "traceback": [
      "An exception has occurred, use %tb to see the full traceback.\n",
      "\u001b[0;31mSystemExit\u001b[0m\u001b[0;31m:\u001b[0m K must be a positive integer\n"
     ]
    }
   ],
   "source": [
    "knn_test1 = KNN(-1)"
   ]
  },
  {
   "cell_type": "code",
   "execution_count": 10,
   "metadata": {
    "collapsed": false
   },
   "outputs": [
    {
     "ename": "SystemExit",
     "evalue": "Training data cannot be empty",
     "output_type": "error",
     "traceback": [
      "An exception has occurred, use %tb to see the full traceback.\n",
      "\u001b[0;31mSystemExit\u001b[0m\u001b[0;31m:\u001b[0m Training data cannot be empty\n"
     ]
    }
   ],
   "source": [
    "knn_test1 = KNN(4)\n",
    "knn_test1.fit([], y_train)"
   ]
  },
  {
   "cell_type": "code",
   "execution_count": 12,
   "metadata": {
    "collapsed": false
   },
   "outputs": [
    {
     "ename": "SystemExit",
     "evalue": "House should not have negative price",
     "output_type": "error",
     "traceback": [
      "An exception has occurred, use %tb to see the full traceback.\n",
      "\u001b[0;31mSystemExit\u001b[0m\u001b[0;31m:\u001b[0m House should not have negative price\n"
     ]
    }
   ],
   "source": [
    "knn_test1 = KNN(4)\n",
    "knn_test1.fit(X_train, y_train)\n",
    "knn_test1.mrae(X_test,y_test)"
   ]
  },
  {
   "cell_type": "code",
   "execution_count": 8,
   "metadata": {
    "collapsed": false
   },
   "outputs": [
    {
     "ename": "SystemExit",
     "evalue": "Test data cannot be empty",
     "output_type": "error",
     "traceback": [
      "An exception has occurred, use %tb to see the full traceback.\n",
      "\u001b[0;31mSystemExit\u001b[0m\u001b[0;31m:\u001b[0m Test data cannot be empty\n"
     ]
    }
   ],
   "source": [
    "y_train = abs(y_train)\n",
    "knn_test1 = KNN(4)\n",
    "knn_test1.fit(X_train, y_train)\n",
    "knn_test1.mrae([],y_test)"
   ]
  },
  {
   "cell_type": "code",
   "execution_count": 9,
   "metadata": {
    "collapsed": false
   },
   "outputs": [
    {
     "name": "stdout",
     "output_type": "stream",
     "text": [
      "1 Nan values have been predicted\n"
     ]
    },
    {
     "data": {
      "text/plain": [
       "0.37336928902032457"
      ]
     },
     "execution_count": 9,
     "metadata": {},
     "output_type": "execute_result"
    }
   ],
   "source": [
    "knn_test1 = KNN(4)\n",
    "knn_test1.fit(X_train, y_train)\n",
    "knn_test1.mrae(X_test,y_test)"
   ]
  }
 ],
 "metadata": {
  "kernelspec": {
   "display_name": "Python 2",
   "language": "python",
   "name": "python2"
  },
  "language_info": {
   "codemirror_mode": {
    "name": "ipython",
    "version": 2
   },
   "file_extension": ".py",
   "mimetype": "text/x-python",
   "name": "python",
   "nbconvert_exporter": "python",
   "pygments_lexer": "ipython2",
   "version": "2.7.13"
  }
 },
 "nbformat": 4,
 "nbformat_minor": 2
}

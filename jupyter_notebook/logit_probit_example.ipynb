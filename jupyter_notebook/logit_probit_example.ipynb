{
 "cells": [
  {
   "cell_type": "markdown",
   "metadata": {},
   "source": [
    "# Discrete Choice Models"
   ]
  },
  {
   "cell_type": "markdown",
   "metadata": {},
   "source": [
    "## Fair's Affair data"
   ]
  },
  {
   "cell_type": "markdown",
   "metadata": {},
   "source": [
    "A survey of women only was conducted in 1974 by *Redbook* asking about extramarital affairs."
   ]
  },
  {
   "cell_type": "code",
   "execution_count": 1,
   "metadata": {
    "collapsed": false
   },
   "outputs": [],
   "source": [
    "from __future__ import print_function\n",
    "import numpy as np\n",
    "from scipy import stats\n",
    "import matplotlib.pyplot as plt\n",
    "import statsmodels.api as sm\n",
    "from statsmodels.formula.api import logit, probit, poisson, ols"
   ]
  },
  {
   "cell_type": "code",
   "execution_count": 2,
   "metadata": {
    "collapsed": false
   },
   "outputs": [
    {
     "name": "stdout",
     "output_type": "stream",
     "text": [
      "\n",
      "Fair, Ray. 1978. \"A Theory of Extramarital Affairs,\" `Journal of Political\n",
      "    Economy`, February, 45-61.\n",
      "\n",
      "The data is available at http://fairmodel.econ.yale.edu/rayfair/pdf/2011b.htm\n",
      "\n"
     ]
    }
   ],
   "source": [
    "print(sm.datasets.fair.SOURCE)"
   ]
  },
  {
   "cell_type": "code",
   "execution_count": 3,
   "metadata": {
    "collapsed": false
   },
   "outputs": [
    {
     "name": "stdout",
     "output_type": "stream",
     "text": [
      "\n",
      "Number of observations: 6366\n",
      "Number of variables: 9\n",
      "Variable name definitions:\n",
      "\n",
      "    rate_marriage   : How rate marriage, 1 = very poor, 2 = poor, 3 = fair,\n",
      "                      4 = good, 5 = very good\n",
      "    age             : Age\n",
      "    yrs_married     : No. years married. Interval approximations. See\n",
      "                      original paper for detailed explanation.\n",
      "    children        : No. children\n",
      "    religious       : How relgious, 1 = not, 2 = mildly, 3 = fairly,\n",
      "                      4 = strongly\n",
      "    educ            : Level of education, 9 = grade school, 12 = high school,\n",
      "                      14 = some college, 16 = college graduate, 17 = some\n",
      "                      graduate school, 20 = advanced degree\n",
      "    occupation      : 1 = student, 2 = farming, agriculture; semi-skilled,\n",
      "                      or unskilled worker; 3 = white-colloar; 4 = teacher\n",
      "                      counselor social worker, nurse; artist, writers;\n",
      "                      technician, skilled worker, 5 = managerial,\n",
      "                      administrative, business, 6 = professional with\n",
      "                      advanced degree\n",
      "    occupation_husb : Husband's occupation. Same as occupation.\n",
      "    affairs         : measure of time spent in extramarital affairs\n",
      "\n",
      "See the original paper for more details.\n",
      "\n"
     ]
    }
   ],
   "source": [
    "print( sm.datasets.fair.NOTE)"
   ]
  },
  {
   "cell_type": "code",
   "execution_count": 4,
   "metadata": {
    "collapsed": false
   },
   "outputs": [],
   "source": [
    "dta = sm.datasets.fair.load_pandas().data"
   ]
  },
  {
   "cell_type": "code",
   "execution_count": 5,
   "metadata": {
    "collapsed": false
   },
   "outputs": [
    {
     "name": "stdout",
     "output_type": "stream",
     "text": [
      "   rate_marriage  age  yrs_married  children  religious  educ  occupation  \\\n",
      "0              3   32          9.0       3.0          3    17           2   \n",
      "1              3   27         13.0       3.0          1    14           3   \n",
      "2              4   22          2.5       0.0          1    16           3   \n",
      "3              4   37         16.5       4.0          3    16           5   \n",
      "4              5   27          9.0       1.0          1    14           3   \n",
      "5              4   27          9.0       0.0          2    14           3   \n",
      "6              5   37         23.0       5.5          2    12           5   \n",
      "7              5   37         23.0       5.5          2    12           2   \n",
      "8              3   22          2.5       0.0          2    12           3   \n",
      "9              3   27          6.0       0.0          1    16           3   \n",
      "\n",
      "   occupation_husb   affairs  affair  \n",
      "0                5  0.111111       1  \n",
      "1                4  3.230769       1  \n",
      "2                5  1.400000       1  \n",
      "3                5  0.727273       1  \n",
      "4                4  4.666666       1  \n",
      "5                4  4.666666       1  \n",
      "6                4  0.852174       1  \n",
      "7                3  1.826086       1  \n",
      "8                3  4.799999       1  \n",
      "9                5  1.333333       1  \n"
     ]
    }
   ],
   "source": [
    "dta['affair'] = (dta['affairs'] > 0).astype(float)\n",
    "print(dta.head(10))"
   ]
  },
  {
   "cell_type": "code",
   "execution_count": 6,
   "metadata": {
    "collapsed": false
   },
   "outputs": [
    {
     "name": "stdout",
     "output_type": "stream",
     "text": [
      "       rate_marriage          age  yrs_married     children    religious  \\\n",
      "count    6366.000000  6366.000000  6366.000000  6366.000000  6366.000000   \n",
      "mean        4.109645    29.082862     9.009425     1.396874     2.426170   \n",
      "std         0.961430     6.847882     7.280120     1.433471     0.878369   \n",
      "min         1.000000    17.500000     0.500000     0.000000     1.000000   \n",
      "25%         4.000000    22.000000     2.500000     0.000000     2.000000   \n",
      "50%         4.000000    27.000000     6.000000     1.000000     2.000000   \n",
      "75%         5.000000    32.000000    16.500000     2.000000     3.000000   \n",
      "max         5.000000    42.000000    23.000000     5.500000     4.000000   \n",
      "\n",
      "              educ   occupation  occupation_husb      affairs       affair  \n",
      "count  6366.000000  6366.000000      6366.000000  6366.000000  6366.000000  \n",
      "mean     14.209865     3.424128         3.850141     0.705374     0.322495  \n",
      "std       2.178003     0.942399         1.346435     2.203374     0.467468  \n",
      "min       9.000000     1.000000         1.000000     0.000000     0.000000  \n",
      "25%      12.000000     3.000000         3.000000     0.000000     0.000000  \n",
      "50%      14.000000     3.000000         4.000000     0.000000     0.000000  \n",
      "75%      16.000000     4.000000         5.000000     0.484848     1.000000  \n",
      "max      20.000000     6.000000         6.000000    57.599991     1.000000  \n"
     ]
    }
   ],
   "source": [
    "print(dta.describe())"
   ]
  },
  {
   "cell_type": "code",
   "execution_count": 7,
   "metadata": {
    "collapsed": false
   },
   "outputs": [
    {
     "name": "stdout",
     "output_type": "stream",
     "text": [
      "Optimization terminated successfully.\n",
      "         Current function value: 0.545314\n",
      "         Iterations 6\n"
     ]
    }
   ],
   "source": [
    "affair_mod = logit(\"affair ~ occupation + educ + occupation_husb\" \n",
    "                   \"+ rate_marriage + age + yrs_married + children\"\n",
    "                   \" + religious\", dta).fit()"
   ]
  },
  {
   "cell_type": "code",
   "execution_count": 8,
   "metadata": {
    "collapsed": false
   },
   "outputs": [
    {
     "name": "stdout",
     "output_type": "stream",
     "text": [
      "                           Logit Regression Results                           \n",
      "==============================================================================\n",
      "Dep. Variable:                 affair   No. Observations:                 6366\n",
      "Model:                          Logit   Df Residuals:                     6357\n",
      "Method:                           MLE   Df Model:                            8\n",
      "Date:                Sun, 01 May 2016   Pseudo R-squ.:                  0.1327\n",
      "Time:                        12:14:43   Log-Likelihood:                -3471.5\n",
      "converged:                       True   LL-Null:                       -4002.5\n",
      "                                        LLR p-value:                5.807e-224\n",
      "===================================================================================\n",
      "                      coef    std err          z      P>|z|      [95.0% Conf. Int.]\n",
      "-----------------------------------------------------------------------------------\n",
      "Intercept           3.7257      0.299     12.470      0.000         3.140     4.311\n",
      "occupation          0.1602      0.034      4.717      0.000         0.094     0.227\n",
      "educ               -0.0392      0.015     -2.533      0.011        -0.070    -0.009\n",
      "occupation_husb     0.0124      0.023      0.541      0.589        -0.033     0.057\n",
      "rate_marriage      -0.7161      0.031    -22.784      0.000        -0.778    -0.655\n",
      "age                -0.0605      0.010     -5.885      0.000        -0.081    -0.040\n",
      "yrs_married         0.1100      0.011     10.054      0.000         0.089     0.131\n",
      "children           -0.0042      0.032     -0.134      0.893        -0.066     0.058\n",
      "religious          -0.3752      0.035    -10.792      0.000        -0.443    -0.307\n",
      "===================================================================================\n"
     ]
    }
   ],
   "source": [
    "print(affair_mod.summary())"
   ]
  },
  {
   "cell_type": "markdown",
   "metadata": {},
   "source": [
    "How well are we predicting?"
   ]
  },
  {
   "cell_type": "code",
   "execution_count": 9,
   "metadata": {
    "collapsed": false
   },
   "outputs": [
    {
     "data": {
      "text/plain": [
       "array([[ 3882.,   431.],\n",
       "       [ 1326.,   727.]])"
      ]
     },
     "execution_count": 9,
     "metadata": {},
     "output_type": "execute_result"
    }
   ],
   "source": [
    "affair_mod.pred_table()"
   ]
  },
  {
   "cell_type": "markdown",
   "metadata": {},
   "source": [
    "The coefficients of the discrete choice model do not tell us much. What we're after is marginal effects."
   ]
  },
  {
   "cell_type": "code",
   "execution_count": 10,
   "metadata": {
    "collapsed": false
   },
   "outputs": [
    {
     "name": "stdout",
     "output_type": "stream",
     "text": [
      "        Logit Marginal Effects       \n",
      "=====================================\n",
      "Dep. Variable:                 affair\n",
      "Method:                          dydx\n",
      "At:                           overall\n",
      "===================================================================================\n",
      "                     dy/dx    std err          z      P>|z|      [95.0% Conf. Int.]\n",
      "-----------------------------------------------------------------------------------\n",
      "occupation          0.0293      0.006      4.744      0.000         0.017     0.041\n",
      "educ               -0.0072      0.003     -2.538      0.011        -0.013    -0.002\n",
      "occupation_husb     0.0023      0.004      0.541      0.589        -0.006     0.010\n",
      "rate_marriage      -0.1308      0.005    -26.891      0.000        -0.140    -0.121\n",
      "age                -0.0110      0.002     -5.937      0.000        -0.015    -0.007\n",
      "yrs_married         0.0201      0.002     10.327      0.000         0.016     0.024\n",
      "children           -0.0008      0.006     -0.134      0.893        -0.012     0.011\n",
      "religious          -0.0685      0.006    -11.119      0.000        -0.081    -0.056\n",
      "===================================================================================\n"
     ]
    },
    {
     "name": "stderr",
     "output_type": "stream",
     "text": [
      "C:\\Anaconda\\lib\\site-packages\\statsmodels\\discrete\\discrete_model.py:430: FutureWarning: comparison to `None` will result in an elementwise object comparison in the future.\n",
      "  if exog == None:\n"
     ]
    }
   ],
   "source": [
    "mfx = affair_mod.get_margeff()\n",
    "print(mfx.summary())"
   ]
  },
  {
   "cell_type": "code",
   "execution_count": 11,
   "metadata": {
    "collapsed": false
   },
   "outputs": [
    {
     "name": "stdout",
     "output_type": "stream",
     "text": [
      "rate_marriage       4.000000\n",
      "age                37.000000\n",
      "yrs_married        23.000000\n",
      "children            3.000000\n",
      "religious           3.000000\n",
      "educ               12.000000\n",
      "occupation          3.000000\n",
      "occupation_husb     4.000000\n",
      "affairs             0.521739\n",
      "affair              1.000000\n",
      "Name: 1000, dtype: float64\n"
     ]
    }
   ],
   "source": [
    "respondent1000 = dta.ix[1000]\n",
    "print(respondent1000)"
   ]
  },
  {
   "cell_type": "code",
   "execution_count": 12,
   "metadata": {
    "collapsed": false
   },
   "outputs": [
    {
     "name": "stdout",
     "output_type": "stream",
     "text": [
      "{0: 1, 1: 3.0, 2: 12.0, 3: 4.0, 4: 4.0, 5: 37.0, 6: 23.0, 7: 3.0, 8: 3.0}\n"
     ]
    }
   ],
   "source": [
    "resp = dict(zip(range(1,9), respondent1000[[\"occupation\", \"educ\", \n",
    "                                            \"occupation_husb\", \"rate_marriage\", \n",
    "                                            \"age\", \"yrs_married\", \"children\", \n",
    "                                            \"religious\"]].tolist()))\n",
    "resp.update({0 : 1})\n",
    "print(resp)"
   ]
  },
  {
   "cell_type": "code",
   "execution_count": 13,
   "metadata": {
    "collapsed": false
   },
   "outputs": [
    {
     "name": "stdout",
     "output_type": "stream",
     "text": [
      "        Logit Marginal Effects       \n",
      "=====================================\n",
      "Dep. Variable:                 affair\n",
      "Method:                          dydx\n",
      "At:                           overall\n",
      "===================================================================================\n",
      "                     dy/dx    std err          z      P>|z|      [95.0% Conf. Int.]\n",
      "-----------------------------------------------------------------------------------\n",
      "occupation          0.0400      0.008      4.711      0.000         0.023     0.057\n",
      "educ               -0.0098      0.004     -2.537      0.011        -0.017    -0.002\n",
      "occupation_husb     0.0031      0.006      0.541      0.589        -0.008     0.014\n",
      "rate_marriage      -0.1788      0.008    -22.743      0.000        -0.194    -0.163\n",
      "age                -0.0151      0.003     -5.928      0.000        -0.020    -0.010\n",
      "yrs_married         0.0275      0.003     10.256      0.000         0.022     0.033\n",
      "children           -0.0011      0.008     -0.134      0.893        -0.017     0.014\n",
      "religious          -0.0937      0.009    -10.722      0.000        -0.111    -0.077\n",
      "===================================================================================\n"
     ]
    }
   ],
   "source": [
    "mfx = affair_mod.get_margeff(atexog=resp)\n",
    "print(mfx.summary())"
   ]
  },
  {
   "cell_type": "code",
   "execution_count": 14,
   "metadata": {
    "collapsed": false
   },
   "outputs": [
    {
     "data": {
      "text/plain": [
       "array([ 0.51878156])"
      ]
     },
     "execution_count": 14,
     "metadata": {},
     "output_type": "execute_result"
    }
   ],
   "source": [
    "affair_mod.predict(respondent1000)"
   ]
  },
  {
   "cell_type": "code",
   "execution_count": 15,
   "metadata": {
    "collapsed": false
   },
   "outputs": [
    {
     "data": {
      "text/plain": [
       "0.075161592850548464"
      ]
     },
     "execution_count": 15,
     "metadata": {},
     "output_type": "execute_result"
    }
   ],
   "source": [
    "affair_mod.fittedvalues[1000]"
   ]
  },
  {
   "cell_type": "code",
   "execution_count": 16,
   "metadata": {
    "collapsed": false
   },
   "outputs": [
    {
     "data": {
      "text/plain": [
       "0.51878155721214347"
      ]
     },
     "execution_count": 16,
     "metadata": {},
     "output_type": "execute_result"
    }
   ],
   "source": [
    "affair_mod.model.cdf(affair_mod.fittedvalues[1000])"
   ]
  },
  {
   "cell_type": "markdown",
   "metadata": {},
   "source": [
    "The \"correct\" model here is likely the Tobit model. We have an work in progress branch \"tobit-model\" on github, if anyone is interested in censored regression models."
   ]
  },
  {
   "cell_type": "markdown",
   "metadata": {},
   "source": [
    "### Exercise: Logit vs Probit"
   ]
  },
  {
   "cell_type": "code",
   "execution_count": null,
   "metadata": {
    "collapsed": false
   },
   "outputs": [],
   "source": [
    "fig = plt.figure(figsize=(12,8))\n",
    "ax = fig.add_subplot(111)\n",
    "support = np.linspace(-6, 6, 1000)\n",
    "ax.plot(support, stats.logistic.cdf(support), 'r-', label='Logistic')\n",
    "ax.plot(support, stats.norm.cdf(support), label='Probit')\n",
    "ax.legend();"
   ]
  },
  {
   "cell_type": "code",
   "execution_count": null,
   "metadata": {
    "collapsed": false
   },
   "outputs": [],
   "source": [
    "fig = plt.figure(figsize=(12,8))\n",
    "ax = fig.add_subplot(111)\n",
    "support = np.linspace(-6, 6, 1000)\n",
    "ax.plot(support, stats.logistic.pdf(support), 'r-', label='Logistic')\n",
    "ax.plot(support, stats.norm.pdf(support), label='Probit')\n",
    "ax.legend();"
   ]
  },
  {
   "cell_type": "markdown",
   "metadata": {},
   "source": [
    "Compare the estimates of the Logit Fair model above to a Probit model. Does the prediction table look better? Much difference in marginal effects?"
   ]
  },
  {
   "cell_type": "markdown",
   "metadata": {},
   "source": [
    "### Genarlized Linear Model Example"
   ]
  },
  {
   "cell_type": "code",
   "execution_count": null,
   "metadata": {
    "collapsed": false
   },
   "outputs": [],
   "source": [
    "print(sm.datasets.star98.SOURCE)"
   ]
  },
  {
   "cell_type": "code",
   "execution_count": null,
   "metadata": {
    "collapsed": false
   },
   "outputs": [],
   "source": [
    "print(sm.datasets.star98.DESCRLONG)"
   ]
  },
  {
   "cell_type": "code",
   "execution_count": null,
   "metadata": {
    "collapsed": false
   },
   "outputs": [],
   "source": [
    "print(sm.datasets.star98.NOTE)"
   ]
  },
  {
   "cell_type": "code",
   "execution_count": null,
   "metadata": {
    "collapsed": false
   },
   "outputs": [],
   "source": [
    "dta = sm.datasets.star98.load_pandas().data\n",
    "print(dta.columns)"
   ]
  },
  {
   "cell_type": "code",
   "execution_count": null,
   "metadata": {
    "collapsed": false
   },
   "outputs": [],
   "source": [
    "print(dta[['NABOVE', 'NBELOW', 'LOWINC', 'PERASIAN', 'PERBLACK', 'PERHISP', 'PERMINTE']].head(10))"
   ]
  },
  {
   "cell_type": "code",
   "execution_count": null,
   "metadata": {
    "collapsed": false
   },
   "outputs": [],
   "source": [
    "print(dta[['AVYRSEXP', 'AVSALK', 'PERSPENK', 'PTRATIO', 'PCTAF', 'PCTCHRT', 'PCTYRRND']].head(10))"
   ]
  },
  {
   "cell_type": "code",
   "execution_count": null,
   "metadata": {
    "collapsed": false
   },
   "outputs": [],
   "source": [
    "formula = 'NABOVE + NBELOW ~ LOWINC + PERASIAN + PERBLACK + PERHISP + PCTCHRT '\n",
    "formula += '+ PCTYRRND + PERMINTE*AVYRSEXP*AVSALK + PERSPENK*PTRATIO*PCTAF'"
   ]
  },
  {
   "cell_type": "markdown",
   "metadata": {},
   "source": [
    "#### Aside: Binomial distribution"
   ]
  },
  {
   "cell_type": "markdown",
   "metadata": {},
   "source": [
    "Toss a six-sided die 5 times, what's the probability of exactly 2 fours?"
   ]
  },
  {
   "cell_type": "code",
   "execution_count": null,
   "metadata": {
    "collapsed": false
   },
   "outputs": [],
   "source": [
    "stats.binom(5, 1./6).pmf(2)"
   ]
  },
  {
   "cell_type": "code",
   "execution_count": null,
   "metadata": {
    "collapsed": false
   },
   "outputs": [],
   "source": [
    "from scipy.misc import comb\n",
    "comb(5,2) * (1/6.)**2 * (5/6.)**3"
   ]
  },
  {
   "cell_type": "code",
   "execution_count": null,
   "metadata": {
    "collapsed": false
   },
   "outputs": [],
   "source": [
    "from statsmodels.formula.api import glm\n",
    "glm_mod = glm(formula, dta, family=sm.families.Binomial()).fit()"
   ]
  },
  {
   "cell_type": "code",
   "execution_count": null,
   "metadata": {
    "collapsed": false
   },
   "outputs": [],
   "source": [
    "print(glm_mod.summary())"
   ]
  },
  {
   "cell_type": "markdown",
   "metadata": {},
   "source": [
    "The number of trials "
   ]
  },
  {
   "cell_type": "code",
   "execution_count": null,
   "metadata": {
    "collapsed": false
   },
   "outputs": [],
   "source": [
    "glm_mod.model.data.orig_endog.sum(1)"
   ]
  },
  {
   "cell_type": "code",
   "execution_count": null,
   "metadata": {
    "collapsed": false
   },
   "outputs": [],
   "source": [
    "glm_mod.fittedvalues * glm_mod.model.data.orig_endog.sum(1)"
   ]
  },
  {
   "cell_type": "markdown",
   "metadata": {},
   "source": [
    "First differences: We hold all explanatory variables constant at their means and manipulate the percentage of low income households to assess its impact\n",
    "on the response variables:"
   ]
  },
  {
   "cell_type": "code",
   "execution_count": null,
   "metadata": {
    "collapsed": false
   },
   "outputs": [],
   "source": [
    "exog = glm_mod.model.data.orig_exog # get the dataframe"
   ]
  },
  {
   "cell_type": "code",
   "execution_count": null,
   "metadata": {
    "collapsed": false
   },
   "outputs": [],
   "source": [
    "means25 = exog.mean()\n",
    "print(means25)"
   ]
  },
  {
   "cell_type": "code",
   "execution_count": null,
   "metadata": {
    "collapsed": false
   },
   "outputs": [],
   "source": [
    "means25['LOWINC'] = exog['LOWINC'].quantile(.25)\n",
    "print(means25)"
   ]
  },
  {
   "cell_type": "code",
   "execution_count": null,
   "metadata": {
    "collapsed": false
   },
   "outputs": [],
   "source": [
    "means75 = exog.mean()\n",
    "means75['LOWINC'] = exog['LOWINC'].quantile(.75)\n",
    "print(means75)"
   ]
  },
  {
   "cell_type": "code",
   "execution_count": null,
   "metadata": {
    "collapsed": false
   },
   "outputs": [],
   "source": [
    "resp25 = glm_mod.predict(means25)\n",
    "resp75 = glm_mod.predict(means75)\n",
    "diff = resp75 - resp25"
   ]
  },
  {
   "cell_type": "markdown",
   "metadata": {},
   "source": [
    "The interquartile first difference for the percentage of low income households in a school district is:"
   ]
  },
  {
   "cell_type": "code",
   "execution_count": null,
   "metadata": {
    "collapsed": false
   },
   "outputs": [],
   "source": [
    "print(\"%2.4f%%\" % (diff[0]*100))"
   ]
  },
  {
   "cell_type": "code",
   "execution_count": null,
   "metadata": {
    "collapsed": false
   },
   "outputs": [],
   "source": [
    "nobs = glm_mod.nobs\n",
    "y = glm_mod.model.endog\n",
    "yhat = glm_mod.mu"
   ]
  },
  {
   "cell_type": "code",
   "execution_count": null,
   "metadata": {
    "collapsed": false
   },
   "outputs": [],
   "source": [
    "from statsmodels.graphics.api import abline_plot\n",
    "fig = plt.figure(figsize=(12,8))\n",
    "ax = fig.add_subplot(111, ylabel='Observed Values', xlabel='Fitted Values')\n",
    "ax.scatter(yhat, y)\n",
    "y_vs_yhat = sm.OLS(y, sm.add_constant(yhat, prepend=True)).fit()\n",
    "fig = abline_plot(model_results=y_vs_yhat, ax=ax)"
   ]
  },
  {
   "cell_type": "markdown",
   "metadata": {},
   "source": [
    "#### Plot fitted values vs Pearson residuals"
   ]
  },
  {
   "cell_type": "markdown",
   "metadata": {},
   "source": [
    "Pearson residuals are defined to be \n",
    "\n",
    "$$\\frac{(y - \\mu)}{\\sqrt{(var(\\mu))}}$$\n",
    "\n",
    "where var is typically determined by the family. E.g., binomial variance is $np(1 - p)$"
   ]
  },
  {
   "cell_type": "code",
   "execution_count": null,
   "metadata": {
    "collapsed": false
   },
   "outputs": [],
   "source": [
    "fig = plt.figure(figsize=(12,8))\n",
    "ax = fig.add_subplot(111, title='Residual Dependence Plot', xlabel='Fitted Values',\n",
    "                          ylabel='Pearson Residuals')\n",
    "ax.scatter(yhat, stats.zscore(glm_mod.resid_pearson))\n",
    "ax.axis('tight')\n",
    "ax.plot([0.0, 1.0],[0.0, 0.0], 'k-');"
   ]
  },
  {
   "cell_type": "markdown",
   "metadata": {},
   "source": [
    "#### Histogram of standardized deviance residuals with Kernel Density Estimate overlayed"
   ]
  },
  {
   "cell_type": "markdown",
   "metadata": {},
   "source": [
    "The definition of the deviance residuals depends on the family. For the Binomial distribution this is \n",
    "\n",
    "$$r_{dev} = sign\\left(Y-\\mu\\right)*\\sqrt{2n(Y\\log\\frac{Y}{\\mu}+(1-Y)\\log\\frac{(1-Y)}{(1-\\mu)}}$$\n",
    "\n",
    "They can be used to detect ill-fitting covariates"
   ]
  },
  {
   "cell_type": "code",
   "execution_count": null,
   "metadata": {
    "collapsed": false
   },
   "outputs": [],
   "source": [
    "resid = glm_mod.resid_deviance\n",
    "resid_std = stats.zscore(resid) \n",
    "kde_resid = sm.nonparametric.KDEUnivariate(resid_std)\n",
    "kde_resid.fit()"
   ]
  },
  {
   "cell_type": "code",
   "execution_count": null,
   "metadata": {
    "collapsed": false
   },
   "outputs": [],
   "source": [
    "fig = plt.figure(figsize=(12,8))\n",
    "ax = fig.add_subplot(111, title=\"Standardized Deviance Residuals\")\n",
    "ax.hist(resid_std, bins=25, normed=True);\n",
    "ax.plot(kde_resid.support, kde_resid.density, 'r');"
   ]
  },
  {
   "cell_type": "markdown",
   "metadata": {},
   "source": [
    "#### QQ-plot of deviance residuals"
   ]
  },
  {
   "cell_type": "code",
   "execution_count": null,
   "metadata": {
    "collapsed": false
   },
   "outputs": [],
   "source": [
    "fig = plt.figure(figsize=(12,8))\n",
    "ax = fig.add_subplot(111)\n",
    "fig = sm.graphics.qqplot(resid, line='r', ax=ax)"
   ]
  }
 ],
 "metadata": {
  "kernelspec": {
   "display_name": "Python 2",
   "language": "python",
   "name": "python2"
  },
  "language_info": {
   "codemirror_mode": {
    "name": "ipython",
    "version": 2
   },
   "file_extension": ".py",
   "mimetype": "text/x-python",
   "name": "python",
   "nbconvert_exporter": "python",
   "pygments_lexer": "ipython2",
   "version": "2.7.7"
  }
 },
 "nbformat": 4,
 "nbformat_minor": 0
}
